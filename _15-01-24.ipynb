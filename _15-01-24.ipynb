{
 "cells": [
  {
   "cell_type": "code",
   "execution_count": 1,
   "id": "8da2b174-42e3-47ba-a939-3de5e46f1b79",
   "metadata": {},
   "outputs": [],
   "source": [
    " # CONSTRCTOR"
   ]
  },
  {
   "cell_type": "code",
   "execution_count": 3,
   "id": "f3b895a2-a4c5-4a7c-94d7-45780057d2cf",
   "metadata": {},
   "outputs": [],
   "source": [
    "#1. What is a constructor in Python? Explain its purpose and usage.\n",
    "#2. Differentiate between a parameterless constructor and a parameterized constructor in Python.\n",
    "#4. Explain the `__init__` method in Python and its role in constructors.\n",
    "#5. In a class named `Person`, create a constructor that initializes the `name` and `age` attributes. Provide an example of creating an object of this class.\n",
    "#6. How can you call a constructor explicitly in Python? Give an example.\n",
    "#7. What is the significance of the `self` parameter in Python constructors? Explain with an example.\n",
    "#8. Discuss the concept of default constructors in Python. When are they used?\n",
    "#9. Create a Python class called `Rectangle` with a constructor that initializes the `width` and `height`attributes. Provide a method to calculate the area of the rectangle.\n",
    "#10. How can you have multiple constructors in a Python class? Explain with an example.\n",
    "#11. What is method overloading, and how is it related to constructors in Python?\n",
    "#12. Explain the use of the `super()` function in Python constructors. Provide an example.\n",
    "#13. Create a class called `Book` with a constructor that initializes the `title`, `author`, and `published_year` attributes. Provide a method to display book details.\n",
    "#14. Discuss the differences between constructors and regular methods in Python classes.\n",
    "#15. Explain the role of the `self` parameter in instance variable initialization within a constructor.\n",
    "#16. How do you prevent a class from having multiple instances by using constructors in Python? Provide an example.\n",
    "#17. Create a Python class called `Student` with a constructor that takes a list of subjects as a parameter and initializes the `subjects` attribute.\n",
    "#18. What is the purpose of the `__del__` method in Python classes, and how does it relate to constructors?\n",
    "# 19. Explain the use of constructor chaining in Python. Provide a practical example.\n",
    "#20. Create a Python class called `Car` with a default constructor that initializes the `make` and `model` attributes. Provide a method to display car information."
   ]
  },
  {
   "cell_type": "code",
   "execution_count": 4,
   "id": "9c784237-2db8-4af4-863b-8d75c6949670",
   "metadata": {},
   "outputs": [],
   "source": [
    "#1. What is a constructor in Python?\n",
    "#A constructor is a special method (__init__) used to initialize an object's state when it is created.\n",
    "\n",
    "class MyClass:\n",
    "    def __init__(self):\n",
    "        print(\"Constructor called\")"
   ]
  },
  {
   "cell_type": "code",
   "execution_count": 6,
   "id": "0a45c47c-394c-47fe-ba18-26d0e3c63110",
   "metadata": {},
   "outputs": [],
   "source": [
    "#2.Differentiate between a parameterless and parameterized constructor\n",
    "#Parameterless constructor: No parameters except self.\n",
    "\n",
    "#Parameterized constructor: Accepts additional parameters.\n",
    "class MyClass:\n",
    "    def __init__(self):  # Parameterless\n",
    "        print(\"No parameters\")\n",
    "\n",
    "    def __init__(self, param):  # Parameterized\n",
    "        print(f\"Parameter: {param}\")"
   ]
  },
  {
   "cell_type": "code",
   "execution_count": 7,
   "id": "45eafc35-5198-487b-adb3-badb9647b095",
   "metadata": {},
   "outputs": [],
   "source": [
    "# 3. Define a constructor in a Python class\n",
    " \n",
    "class MyClass:\n",
    "    def __init__(self, value):\n",
    "        self.value = value"
   ]
  },
  {
   "cell_type": "code",
   "execution_count": 8,
   "id": "44d6856d-7fe5-463c-b88a-e690265b06f2",
   "metadata": {},
   "outputs": [],
   "source": [
    "#4. Explain the __init__ method\n",
    "#The __init__ method is called automatically when an object is created. It initializes object attributes.\n",
    "class MyClass:\n",
    "    def __init__(self, value):\n",
    "        self.value = value"
   ]
  },
  {
   "cell_type": "code",
   "execution_count": 9,
   "id": "ee5f884a-d09d-4740-8168-29e3d2dbe10e",
   "metadata": {},
   "outputs": [
    {
     "name": "stdout",
     "output_type": "stream",
     "text": [
      "Alice 30\n"
     ]
    }
   ],
   "source": [
    "#5. Constructor for Person class\n",
    "\n",
    "class Person:\n",
    "    def __init__(self, name, age):\n",
    "        self.name = name\n",
    "        self.age = age\n",
    "\n",
    "person = Person(\"Alice\", 30)\n",
    "print(person.name, person.age)  # Output: Alice 30\n"
   ]
  },
  {
   "cell_type": "code",
   "execution_count": 11,
   "id": "66617ca2-511b-4f2a-b3dc-9a55137b0357",
   "metadata": {},
   "outputs": [],
   "source": [
    "#6. Call a constructor explicitly\n",
    "#Constructors are called implicitly when creating objects. To call explicitly, use the class name.\n",
    "person = Person.__init__(person, \"Bob\", 25)"
   ]
  },
  {
   "cell_type": "code",
   "execution_count": 12,
   "id": "9ab75f77-6208-421e-9a06-e2ea0965c57a",
   "metadata": {},
   "outputs": [],
   "source": [
    "#7.Significance of self\n",
    "#self refers to the instance of the class and is used to access instance variables.\n",
    "\n",
    "class MyClass:\n",
    "    def __init__(self, value):\n",
    "        self.value = value"
   ]
  },
  {
   "cell_type": "code",
   "execution_count": null,
   "id": "42eec744-e00e-44bd-9fef-b969b98a4b87",
   "metadata": {},
   "outputs": [],
   "source": [
    "#8. Default constructors\n",
    "If no __init__ is defined, Python provides a default constructor.\n",
    "class MyClass:\n",
    "    pass  # Default constructor"
   ]
  },
  {
   "cell_type": "code",
   "execution_count": 13,
   "id": "5d64aa26-26b7-4d61-861e-054d9700d37a",
   "metadata": {},
   "outputs": [
    {
     "name": "stdout",
     "output_type": "stream",
     "text": [
      "50\n"
     ]
    }
   ],
   "source": [
    "#9. Rectangle class with area calculation\n",
    "class Rectangle:\n",
    "    def __init__(self, width, height):\n",
    "        self.width = width\n",
    "        self.height = height\n",
    "\n",
    "    def area(self):\n",
    "        return self.width * self.height\n",
    "\n",
    "rect = Rectangle(5, 10)\n",
    "print(rect.area()) \n"
   ]
  },
  {
   "cell_type": "code",
   "execution_count": 14,
   "id": "4c1adb0c-7e60-4d69-ba62-531857fcd832",
   "metadata": {},
   "outputs": [],
   "source": [
    "#10. Multiple constructors\n",
    "#Python doesn't support multiple constructors directly, but you can use default arguments or @classmethod.\n",
    "class MyClass:\n",
    "    def __init__(self, value=None):\n",
    "        self.value = value\n",
    "\n",
    "    @classmethod\n",
    "    def from_list(cls, lst):\n",
    "        return cls(sum(lst))"
   ]
  },
  {
   "cell_type": "code",
   "execution_count": 15,
   "id": "8423905a-8ef1-437c-8280-fb0d3e9f8ea5",
   "metadata": {},
   "outputs": [],
   "source": [
    "#11. Method overloading\n",
    "#Python doesn't support method overloading directly. Use default arguments or variable-length argumen\n",
    "class MyClass:\n",
    "    def __init__(self, *args):\n",
    "        if len(args) == 1:\n",
    "            self.value = args[0]\n",
    "        else:\n",
    "            self.value = None"
   ]
  },
  {
   "cell_type": "code",
   "execution_count": 16,
   "id": "cf57cdbd-da6a-4228-a465-63b03957e8b2",
   "metadata": {},
   "outputs": [],
   "source": [
    "#12. super() function\n",
    "#super() is used to call the parent class constructor.\n",
    "class Parent:\n",
    "    def __init__(self):\n",
    "        print(\"Parent constructor\")\n",
    "\n",
    "class Child(Parent):\n",
    "    def __init__(self):\n",
    "        super().__init__()\n",
    "        print(\"Child constructor\")"
   ]
  },
  {
   "cell_type": "code",
   "execution_count": 17,
   "id": "cc7bbfd2-2bae-4140-b9a7-dd1a5d7157a6",
   "metadata": {},
   "outputs": [
    {
     "name": "stdout",
     "output_type": "stream",
     "text": [
      "1984 by George Orwell (1949)\n"
     ]
    }
   ],
   "source": [
    "#13. Book class\n",
    "class Book:\n",
    "    def __init__(self, title, author, published_year):\n",
    "        self.title = title\n",
    "        self.author = author\n",
    "        self.published_year = published_year\n",
    "\n",
    "    def display(self):\n",
    "        print(f\"{self.title} by {self.author} ({self.published_year})\")\n",
    "\n",
    "book = Book(\"1984\", \"George Orwell\", 1949)\n",
    "book.display()  "
   ]
  },
  {
   "cell_type": "code",
   "execution_count": null,
   "id": "ba2e25df-cc64-4f3d-820f-c00b156e28c6",
   "metadata": {},
   "outputs": [],
   "source": [
    "#14. Constructors vs regular methods\n",
    "#Constructors (__init__) are called automatically when an object is created.\n",
    "\n",
    "#Regular methods are called explicitly.\n",
    "class MyClass:\n",
    "    def __init__(self):\n",
    "        print(\"Constructor\")\n",
    "\n",
    "    def regular_method(self):\n",
    "        print(\"Regular method\")"
   ]
  },
  {
   "cell_type": "code",
   "execution_count": 18,
   "id": "28310341-bd5a-4d17-819e-502c721aaebd",
   "metadata": {},
   "outputs": [],
   "source": [
    "#15. self in instance variable initialization\n",
    "#self binds instance variables to the object.\n",
    "class MyClass:\n",
    "    def __init__(self, value):\n",
    "        self.value = value  # Instance variable"
   ]
  },
  {
   "cell_type": "code",
   "execution_count": null,
   "id": "621f365a-aea8-4e1c-ab75-9b55947e5986",
   "metadata": {},
   "outputs": [],
   "source": [
    "#16. Prevent multiple instances\n",
    "Use a singleton pattern.\n",
    "\n",
    "class Singleton:\n",
    "    _instance = None\n",
    "\n",
    "    def __new__(cls):\n",
    "        if cls._instance is None:\n",
    "            cls._instance = super().__new__(cls)\n",
    "        return cls._instance"
   ]
  },
  {
   "cell_type": "code",
   "execution_count": 19,
   "id": "a87bb5d6-ce7d-4268-86cc-c5636c54f91c",
   "metadata": {},
   "outputs": [
    {
     "name": "stdout",
     "output_type": "stream",
     "text": [
      "['Math', 'Science']\n"
     ]
    }
   ],
   "source": [
    "#17. Student class with subjects\n",
    "class Student:\n",
    "    def __init__(self, subjects):\n",
    "        self.subjects = subjects\n",
    "\n",
    "student = Student([\"Math\", \"Science\"])\n",
    "print(student.subjects)   "
   ]
  },
  {
   "cell_type": "code",
   "execution_count": null,
   "id": "77195724-2d4c-4b9c-9738-8a7734d93c99",
   "metadata": {},
   "outputs": [],
   "source": [
    "#18. __del__ method\n",
    "# __del__ is called when an object is about to be destroyed.\n",
    "\n",
    "python\n",
    "Copy\n",
    "class MyClass:\n",
    "    def __del__(self):\n",
    "        print(\"Object destroyed\")"
   ]
  },
  {
   "cell_type": "code",
   "execution_count": 20,
   "id": "77f12a3e-4c5e-4260-9351-621db6273a2f",
   "metadata": {},
   "outputs": [],
   "source": [
    "#19. Constructor chaining\n",
    "#Calling one constructor from another.\n",
    " \n",
    "class Parent:\n",
    "    def __init__(self):\n",
    "        print(\"Parent constructor\")\n",
    "\n",
    "class Child(Parent):\n",
    "    def __init__(self):\n",
    "        super().__init__()\n",
    "        print(\"Child constructor\")"
   ]
  },
  {
   "cell_type": "code",
   "execution_count": 21,
   "id": "b151ceb1-249d-42cb-ba2a-81133679b8ff",
   "metadata": {},
   "outputs": [
    {
     "name": "stdout",
     "output_type": "stream",
     "text": [
      "Toyota Corolla\n"
     ]
    }
   ],
   "source": [
    "#20. Car class with default constructor\n",
    " \n",
    "class Car:\n",
    "    def __init__(self, make=\"Unknown\", model=\"Unknown\"):\n",
    "        self.make = make\n",
    "        self.model = model\n",
    "\n",
    "    def display(self):\n",
    "        print(f\"{self.make} {self.model}\")\n",
    "\n",
    "car = Car(\"Toyota\", \"Corolla\")\n",
    "car.display()   "
   ]
  },
  {
   "cell_type": "code",
   "execution_count": null,
   "id": "1959341f-192b-42ca-b19c-e1d154bbba40",
   "metadata": {},
   "outputs": [],
   "source": [
    "##  INHERITANCE"
   ]
  },
  {
   "cell_type": "code",
   "execution_count": null,
   "id": "d5cac153-0900-417e-8f6c-be79ab116358",
   "metadata": {},
   "outputs": [],
   "source": []
  },
  {
   "cell_type": "code",
   "execution_count": 22,
   "id": "90477e18-b178-47cd-8061-1d2fff042629",
   "metadata": {},
   "outputs": [],
   "source": [
    "#1. What is inheritance in Python? Explain its significance in object-oriented programming.\n",
    "#2. Differentiate between single inheritance and multiple inheritance in Python. Provide examples for each.\n",
    "#3. Create a Python class called `Vehicle` with attributes `color` and `speed`. Then, create a child class called `Car` that inherits from `Vehicle` and adds a `brand` attribute. Provide an example of creating a `Car` object.\n",
    "#4. Explain the concept of method overriding in inheritance. Provide a practical example.\n",
    "#5. How can you access the methods and attributes of a parent class from a child class in Python? Give an example.\n",
    "#6. Discuss the use of the `super()` function in Python inheritance. When and why is it used? Provide an example.\n",
    "#7. Create a Python class called `Animal` with a method `speak()`. Then, create child classes `Dog` and `Cat` that inherit from `Animal` and override the `speak()` method. Provide an example of using these classes.\n",
    "#8. Explain the role of the `isinstance()` function in Python and how it relates to inheritance.\n",
    "#9. What is the purpose of the `issubclass()` function in Python? Provide an example.\n",
    "#10. Discuss the concept of constructor inheritance in Python. How are constructors inherited in child classes?\n",
    "#11. Create a Python class called `Shape` with a method `area()` that calculates the area of a shape. Then, create child classes `Circle` and `Rectangle` that inherit from `Shape` and implement the `area()` method accordingly. Provide an example.\n",
    "#12. Explain the use of abstract base classes (ABCs) in Python and how they relate to inheritance. Provide an example using the `abc` module.\n",
    "#13. How can you prevent a child class from modifying certain attributes or methods inherited from a parent class in Python?\n",
    "#14. Create a Python class called `Employee` with attributes `name` and `salary`. Then, create a child class`Manager` that inherits from `Employee` and adds an attribute `department`. Provide an example.\n",
    "#15. Discuss the concept of method overloading in Python inheritance. How does it differ from method overriding?\n",
    "#16. Explain the purpose of the `__init__()` method in Python inheritance and how it is utilized in child classes.\n",
    "#17. Create a Python class called `Bird` with a method `fly()`. Then, create child classes `Eagle` and `Sparrow` that inherit from `Bird` and implement the `fly()` method differently. Provide an example of using these classes.\n",
    "#18. What is the \"diamond problem\" in multiple inheritance, and how does Python address it?\n",
    "#19. Discuss the concept of \"is-a\" and \"has-a\" relationships in inheritance, and provide examples of each.\n",
    "#20. Create a Python class hierarchy for a university system. Start with a base class `Person` and create childclasses `Student` and `Professor`, each with their own attributes and methods. Provide an example of usingthese classes in a university context."
   ]
  },
  {
   "cell_type": "code",
   "execution_count": 23,
   "id": "a544a6c7-bd80-4b16-ae08-517daa0b222f",
   "metadata": {},
   "outputs": [
    {
     "name": "stdout",
     "output_type": "stream",
     "text": [
      "Hello from Parent\n"
     ]
    }
   ],
   "source": [
    "#1. What is inheritance in Python?\n",
    "#Inheritance allows a class (child) to inherit attributes and methods from another class (parent). It promotes code reuse and hierarchy.\n",
    " \n",
    "class Parent:\n",
    "    def greet(self):\n",
    "        print(\"Hello from Parent\")\n",
    "\n",
    "class Child(Parent):\n",
    "    pass\n",
    "\n",
    "child = Child()\n",
    "child.greet() "
   ]
  },
  {
   "cell_type": "code",
   "execution_count": 24,
   "id": "edde2258-5849-4985-a72e-242e5681dc0f",
   "metadata": {},
   "outputs": [],
   "source": [
    "#2. Single vs Multiple Inheritance\n",
    "#Single inheritance: A class inherits from one parent.\n",
    "\n",
    "#Multiple inheritance: A class inherits from multiple parents.\n",
    " \n",
    "# Single Inheritance\n",
    "class Parent1:\n",
    "    pass\n",
    "\n",
    "class Child(Parent1):\n",
    "    pass\n",
    "\n",
    "# Multiple Inheritance\n",
    "class Parent2:\n",
    "    pass\n",
    "\n",
    "class Child(Parent1, Parent2):\n",
    "    pass"
   ]
  },
  {
   "cell_type": "code",
   "execution_count": 26,
   "id": "3ff4452f-391f-4f51-a065-1095845a984a",
   "metadata": {},
   "outputs": [
    {
     "name": "stdout",
     "output_type": "stream",
     "text": [
      "Red 120 Toyota\n"
     ]
    }
   ],
   "source": [
    "#3. Vehicle and Car classes\n",
    "class Vehicle:\n",
    "    def __init__(self, color, speed):\n",
    "        self.color = color\n",
    "        self.speed = speed\n",
    "\n",
    "class Car(Vehicle):\n",
    "    def __init__(self, color, speed, brand):\n",
    "        super().__init__(color, speed)\n",
    "        self.brand = brand\n",
    "\n",
    "car = Car(\"Red\", 120, \"Toyota\")\n",
    "print(car.color, car.speed, car.brand)"
   ]
  },
  {
   "cell_type": "code",
   "execution_count": 27,
   "id": "34125a48-c963-4ce2-9dde-959e0295ff0f",
   "metadata": {},
   "outputs": [
    {
     "name": "stdout",
     "output_type": "stream",
     "text": [
      "Hello from Child\n"
     ]
    }
   ],
   "source": [
    "#4. Method Overriding\n",
    "#Child classes can override methods from the parent class.\n",
    " \n",
    "class Parent:\n",
    "    def greet(self):\n",
    "        print(\"Hello from Parent\")\n",
    "\n",
    "class Child(Parent):\n",
    "    def greet(self):\n",
    "        print(\"Hello from Child\")\n",
    "\n",
    "child = Child()\n",
    "child.greet() \n"
   ]
  },
  {
   "cell_type": "code",
   "execution_count": 30,
   "id": "91bf5569-ff86-4b50-b376-ba2afee2d37b",
   "metadata": {},
   "outputs": [
    {
     "name": "stdout",
     "output_type": "stream",
     "text": [
      "Hello from Parent\n",
      "Hello from Child\n"
     ]
    }
   ],
   "source": [
    "#5. Access Parent Methods\n",
    "#Use super() to access parent methods.\n",
    " \n",
    "class Parent:\n",
    "    def greet(self):\n",
    "        print(\"Hello from Parent\")\n",
    "\n",
    "class Child(Parent):\n",
    "    def greet(self):\n",
    "        super().greet()\n",
    "        print(\"Hello from Child\")\n",
    "\n",
    "child = Child()\n",
    "child.greet() "
   ]
  },
  {
   "cell_type": "code",
   "execution_count": 31,
   "id": "c25930f7-ea17-405a-843e-f2f74b6d04f4",
   "metadata": {},
   "outputs": [
    {
     "name": "stdout",
     "output_type": "stream",
     "text": [
      "Parent constructor\n",
      "Child constructor\n"
     ]
    }
   ],
   "source": [
    "#super() Function\n",
    "#super() is used to call parent class methods or constructors.\n",
    "\n",
    "class Parent:\n",
    "    def __init__(self):\n",
    "        print(\"Parent constructor\")\n",
    "\n",
    "class Child(Parent):\n",
    "    def __init__(self):\n",
    "        super().__init__()\n",
    "        print(\"Child constructor\")\n",
    "\n",
    "child = Child()"
   ]
  },
  {
   "cell_type": "code",
   "execution_count": 32,
   "id": "68e0b372-c34f-4397-a952-a5fa33fec795",
   "metadata": {},
   "outputs": [
    {
     "name": "stdout",
     "output_type": "stream",
     "text": [
      "Dog barks\n",
      "Cat meows\n"
     ]
    }
   ],
   "source": [
    "#7. Animal, Dog, and Cat classes\n",
    " \n",
    "class Animal:\n",
    "    def speak(self):\n",
    "        print(\"Animal speaks\")\n",
    "\n",
    "class Dog(Animal):\n",
    "    def speak(self):\n",
    "        print(\"Dog barks\")\n",
    "\n",
    "class Cat(Animal):\n",
    "    def speak(self):\n",
    "        print(\"Cat meows\")\n",
    "\n",
    "dog = Dog()\n",
    "dog.speak()   \n",
    "cat = Cat()\n",
    "cat.speak() "
   ]
  },
  {
   "cell_type": "code",
   "execution_count": 33,
   "id": "969f654c-da09-4106-a646-acea3b5208c2",
   "metadata": {},
   "outputs": [
    {
     "name": "stdout",
     "output_type": "stream",
     "text": [
      "True\n"
     ]
    }
   ],
   "source": [
    "#8. isinstance() Function\n",
    "#Checks if an object is an instance of a class or its subclasses.\n",
    " \n",
    "print(isinstance(dog, Animal))  \n"
   ]
  },
  {
   "cell_type": "code",
   "execution_count": 34,
   "id": "2448c827-7e94-4e97-9e6c-2363ce37ab93",
   "metadata": {},
   "outputs": [
    {
     "name": "stdout",
     "output_type": "stream",
     "text": [
      "True\n"
     ]
    }
   ],
   "source": [
    "#9. issubclass() Function\n",
    "#Checks if a class is a subclass of another.\n",
    " \n",
    "print(issubclass(Dog, Animal))   "
   ]
  },
  {
   "cell_type": "code",
   "execution_count": 35,
   "id": "872a4bc3-365d-4cbe-897b-3c368fa25b12",
   "metadata": {},
   "outputs": [
    {
     "name": "stdout",
     "output_type": "stream",
     "text": [
      "Parent constructor\n"
     ]
    }
   ],
   "source": [
    "#10. Constructor Inheritance\n",
    "#Child classes inherit the parent's constructor unless overridden.\n",
    " \n",
    "class Parent:\n",
    "    def __init__(self):\n",
    "        print(\"Parent constructor\")\n",
    "\n",
    "class Child(Parent):\n",
    "    pass\n",
    "\n",
    "child = Child()  "
   ]
  },
  {
   "cell_type": "code",
   "execution_count": 36,
   "id": "4a225786-1a3e-4011-91b3-9a3fa919b033",
   "metadata": {},
   "outputs": [
    {
     "name": "stdout",
     "output_type": "stream",
     "text": [
      "78.5\n"
     ]
    }
   ],
   "source": [
    "#11.. Shape, Circle, and Rectangle classes\n",
    " \n",
    "class Shape:\n",
    "    def area(self):\n",
    "        pass\n",
    "\n",
    "class Circle(Shape):\n",
    "    def __init__(self, radius):\n",
    "        self.radius = radius\n",
    "\n",
    "    def area(self):\n",
    "        return 3.14 * self.radius ** 2\n",
    "\n",
    "class Rectangle(Shape):\n",
    "    def __init__(self, width, height):\n",
    "        self.width = width\n",
    "        self.height = height\n",
    "\n",
    "    def area(self):\n",
    "        return self.width * self.height\n",
    "\n",
    "circle = Circle(5)\n",
    "print(circle.area())"
   ]
  },
  {
   "cell_type": "code",
   "execution_count": 37,
   "id": "60f48038-fe3f-4426-a6e5-73e9eb154e76",
   "metadata": {},
   "outputs": [
    {
     "name": "stdout",
     "output_type": "stream",
     "text": [
      "78.5\n"
     ]
    }
   ],
   "source": [
    "#12. Shape, Circle, and Rectangle classes\n",
    " \n",
    "class Shape:\n",
    "    def area(self):\n",
    "        pass\n",
    "\n",
    "class Circle(Shape):\n",
    "    def __init__(self, radius):\n",
    "        self.radius = radius\n",
    "\n",
    "    def area(self):\n",
    "        return 3.14 * self.radius ** 2\n",
    "\n",
    "class Rectangle(Shape):\n",
    "    def __init__(self, width, height):\n",
    "        self.width = width\n",
    "        self.height = height\n",
    "\n",
    "    def area(self):\n",
    "        return self.width * self.height\n",
    "\n",
    "circle = Circle(5)\n",
    "print(circle.area())"
   ]
  },
  {
   "cell_type": "code",
   "execution_count": 39,
   "id": "075cd289-3939-4154-9d2c-0558e2185615",
   "metadata": {},
   "outputs": [],
   "source": [
    "#3. Preventing Modifications\n",
    "#Use private attributes (e.g., __attribute) to restrict access.\n",
    " \n",
    "class Parent:\n",
    "    def __init__(self):\n",
    "        self.__secret = \"Can't touch this\"\n",
    "\n",
    "class Child(Parent):\n",
    "    pass\n",
    "\n",
    "child = Child()\n",
    "# print(child.__secret)   ,  # Error: AttributeError"
   ]
  },
  {
   "cell_type": "code",
   "execution_count": 40,
   "id": "e1ac6c70-64b0-426a-b61b-a1fd73732303",
   "metadata": {},
   "outputs": [
    {
     "name": "stdout",
     "output_type": "stream",
     "text": [
      "Alice HR\n"
     ]
    }
   ],
   "source": [
    "#14. Employee and Manager classes\n",
    " \n",
    "class Employee:\n",
    "    def __init__(self, name, salary):\n",
    "        self.name = name\n",
    "        self.salary = salary\n",
    "\n",
    "class Manager(Employee):\n",
    "    def __init__(self, name, salary, department):\n",
    "        super().__init__(name, salary)\n",
    "        self.department = department\n",
    "\n",
    "manager = Manager(\"Alice\", 50000, \"HR\")\n",
    "print(manager.name, manager.department) "
   ]
  },
  {
   "cell_type": "code",
   "execution_count": 41,
   "id": "f9f0b42c-4529-4e77-81b7-afead4b0a4f9",
   "metadata": {},
   "outputs": [
    {
     "name": "stdout",
     "output_type": "stream",
     "text": [
      "Hello\n",
      "Hello, Alice\n"
     ]
    }
   ],
   "source": [
    "#15. Method Overloading\n",
    "#Python doesn't support method overloading directly. Use default arguments or variable-length arguments. \n",
    "class Parent:\n",
    "    def greet(self, name=None):\n",
    "        if name:\n",
    "            print(f\"Hello, {name}\")\n",
    "        else:\n",
    "            print(\"Hello\")\n",
    "\n",
    "child = Parent()\n",
    "child.greet()  # Output: Hello\n",
    "child.greet(\"Alice\")  "
   ]
  },
  {
   "cell_type": "code",
   "execution_count": 42,
   "id": "aad5a2e1-e4dc-4d8a-a0a5-bc30edc24754",
   "metadata": {},
   "outputs": [
    {
     "name": "stdout",
     "output_type": "stream",
     "text": [
      "Parent constructor\n",
      "Child constructor\n"
     ]
    }
   ],
   "source": [
    "#16. __init__() in Inheritance\n",
    "#Child classes can call the parent's __init__ using super().\n",
    " \n",
    "class Parent:\n",
    "    def __init__(self):\n",
    "        print(\"Parent constructor\")\n",
    "\n",
    "class Child(Parent):\n",
    "    def __init__(self):\n",
    "        super().__init__()\n",
    "        print(\"Child constructor\")\n",
    "\n",
    "child = Child()  "
   ]
  },
  {
   "cell_type": "code",
   "execution_count": 49,
   "id": "b2f64044-2d39-4933-9bc8-b418dd895cd7",
   "metadata": {},
   "outputs": [],
   "source": [
    "#17. Bird, Eagle, and Sparrow classes\n",
    " class Bird:\n",
    "    def fly(self):\n",
    "        print(\"Bird is flying\")\n",
    "\n",
    "class Eagle(Bird):\n",
    "    def fly(self):\n",
    "        print(\"Eagle soars high\")\n",
    "\n",
    "class Sparrow(Bird):\n",
    "    def fly(self):\n",
    "        print(\"Sparrow flies low\")\n",
    "\n",
    "eagle = Eagle()\n",
    "eagle.fly()  # Output: Eagle soars high"
   ]
  },
  {
   "cell_type": "code",
   "execution_count": 50,
   "id": "fdd65e73-c0b9-44dd-ac6e-7b519d9ecfd4",
   "metadata": {},
   "outputs": [
    {
     "name": "stdout",
     "output_type": "stream",
     "text": [
      "[<class '__main__.D'>, <class '__main__.B'>, <class '__main__.C'>, <class '__main__.A'>, <class 'object'>]\n"
     ]
    }
   ],
   "source": [
    "#18. Diamond Problem\n",
    "#Python resolves the diamond problem using the Method Resolution Order (MRO).\n",
    " \n",
    "class A:\n",
    "    pass\n",
    "\n",
    "class B(A):\n",
    "    pass\n",
    "\n",
    "class C(A):\n",
    "    pass\n",
    "\n",
    "class D(B, C):\n",
    "    pass\n",
    "\n",
    "print(D.mro())  "
   ]
  },
  {
   "cell_type": "code",
   "execution_count": 51,
   "id": "16f84c2c-d3b5-40e8-bb66-2435ab6321f4",
   "metadata": {},
   "outputs": [],
   "source": [
    "#19. \"is-a\" and \"has-a\" Relationships\n",
    "#is-a: Inheritance (e.g., Car is a Vehicle).\n",
    "\n",
    "#has-a: Composition (e.g., Car has an Engine).\n",
    " \n",
    "# is-a\n",
    "class Vehicle:\n",
    "    pass\n",
    "\n",
    "class Car(Vehicle):\n",
    "    pass\n",
    "\n",
    "# has-a\n",
    "class Engine:\n",
    "    pass\n",
    "\n",
    "class Car:\n",
    "    def __init__(self):\n",
    "        self.engine = Engine()"
   ]
  },
  {
   "cell_type": "code",
   "execution_count": 52,
   "id": "760dce93-ea40-4be4-9442-5f326a277545",
   "metadata": {},
   "outputs": [
    {
     "name": "stdout",
     "output_type": "stream",
     "text": [
      "Alice S123\n",
      "Dr. Smith Computer Science\n"
     ]
    }
   ],
   "source": [
    "#20. University System\n",
    " \n",
    "class Person:\n",
    "    def __init__(self, name):\n",
    "        self.name = name\n",
    "\n",
    "class Student(Person):\n",
    "    def __init__(self, name, student_id):\n",
    "        super().__init__(name)\n",
    "        self.student_id = student_id\n",
    "\n",
    "class Professor(Person):\n",
    "    def __init__(self, name, department):\n",
    "        super().__init__(name)\n",
    "        self.department = department\n",
    "\n",
    "student = Student(\"Alice\", \"S123\")\n",
    "professor = Professor(\"Dr. Smith\", \"Computer Science\")\n",
    "print(student.name, student.student_id)   \n",
    "print(professor.name, professor.department)"
   ]
  },
  {
   "cell_type": "code",
   "execution_count": null,
   "id": "12622eff-17a6-4c3b-9f38-43df68459b48",
   "metadata": {},
   "outputs": [],
   "source": [
    "###  ENCAPSULATION "
   ]
  },
  {
   "cell_type": "code",
   "execution_count": 53,
   "id": "745642a1-02d2-4158-a614-c0a5aac4bc84",
   "metadata": {},
   "outputs": [],
   "source": [
    "#1. Explain the concept of encapsulation in Python. What is its role in object-oriented programming?\n",
    "#2. Describe the key principles of encapsulation, including access control and data hiding.\n",
    "#3. How can you achieve encapsulation in Python classes? Provide an example.\n",
    "#4. Discuss the difference between public, private, and protected access modifiers in Python.\n",
    "#5. Create a Python class called `Person` with a private attribute `__name`. Provide methods to get and set the name attribute.\n",
    "#6. Explain the purpose of getter and setter methods in encapsulation. Provide examples.\n",
    "#7. What is name mangling in Python, and how does it affect encapsulation?\n",
    "#8. Create a Python class called `BankAccount` with private attributes for the account balance (`__balance`) and account number (`__account_number`). Provide methods for depositing and withdrawing money.\n",
    "#9. Discuss the advantages of encapsulation in terms of code maintainability and security.\n",
    "#10. How can you access private attributes in Python? Provide an example demonstrating the use of name mangling.\n",
    "#11. Create a Python class hierarchy for a school system, including classes for students, teachers, and courses, and implement encapsulation principles to protect sensitive information.\n",
    "#12. Explain the concept of property decorators in Python and how they relate to encapsulation.\n",
    "#13. What is data hiding, and why is it important in encapsulation? Provide examples.\n",
    "#14. Create a Python class called `Employee` with private attributes for salary (`__salary`) and employee ID (`__employee_id`). Provide a method to calculate yearly bonuses.\n",
    "#15. Discuss the use of accessors and mutators in encapsulation. How do they help maintain control over attribute access?\n",
    "#16. What are the potential drawbacks or disadvantages of using encapsulation in Python?\n",
    "#17. Create a Python class for a library system that encapsulates book information, including titles, authors, and availability status.\n",
    "#18. Explain how encapsulation enhances code reusability and modularity in Python programs.\n",
    "#19. Describe the concept of information hiding in encapsulation. Why is it essential in software development?\n",
    "#20. Create a Python class called `Customer` with private attributes for customer details like name, address, and contact information. Implement encapsulation to ensure data integrity and security."
   ]
  },
  {
   "cell_type": "code",
   "execution_count": 54,
   "id": "87d06d6e-f8aa-472d-aa93-0bee7bfb9845",
   "metadata": {},
   "outputs": [],
   "source": [
    "#1. Encapsulation in Python\n",
    "#Encapsulation is the bundling of data (attributes) and methods that operate on the data into a single unit (class). It restricts direct access to some of an object's components, ensuring data integrity.\n",
    " \n",
    "class Person:\n",
    "    def __init__(self, name):\n",
    "        self.__name = name  # Private attribute\n",
    "\n",
    "    def get_name(self):\n",
    "        return self.__name\n",
    "\n",
    "    def set_name(self, name):\n",
    "        self.__name = name"
   ]
  },
  {
   "cell_type": "code",
   "execution_count": null,
   "id": "256ae69a-a18e-4fc7-8f27-b40dfb93f9a6",
   "metadata": {},
   "outputs": [],
   "source": [
    "#2. Key Principles of Encapsulation\n",
    "#Access Control: Restricting access to attributes and methods.\n",
    "\n",
    "#Data Hiding: Protecting data from unauthorized access or modification."
   ]
  },
  {
   "cell_type": "code",
   "execution_count": null,
   "id": "5963d8ae-8231-4624-b53d-0fb4fb2a63e6",
   "metadata": {},
   "outputs": [],
   "source": [
    "#3. Achieving Encapsulation\n",
    "#Use private attributes (e.g., __attribute) and provide public methods to access or modify them.\n",
    " \n",
    "class Person:\n",
    "    def __init__(self, name):\n",
    "        self.__name = name  # Private attribute\n",
    "\n",
    "    def get_name(self):\n",
    "        return self.__name\n",
    "\n",
    "    def set_name(self, name):\n",
    "        self.__name = name"
   ]
  },
  {
   "cell_type": "code",
   "execution_count": null,
   "id": "7c84921a-ecab-4155-8873-514f99668d1c",
   "metadata": {},
   "outputs": [],
   "source": [
    "#4. Public, Private, and Protected Access\n",
    "#Public: Accessible from anywhere (e.g., attribute).\n",
    "#Protected: Accessible within the class and subclasses (e.g., _attribute).\n",
    "#Private: Accessible only within the class (e.g., __attribute).\n",
    "class Example:\n",
    "    def __init__(self):\n",
    "        self.public = \"Public\"\n",
    "        self._protected = \"Protected\"\n",
    "        self.__private = \"Private\""
   ]
  },
  {
   "cell_type": "code",
   "execution_count": 55,
   "id": "e56f39c9-895a-4bc5-a015-af0822e60e21",
   "metadata": {},
   "outputs": [
    {
     "name": "stdout",
     "output_type": "stream",
     "text": [
      "Alice\n",
      "Bob\n"
     ]
    }
   ],
   "source": [
    "#5. Person Class with Private Attribute\n",
    " \n",
    "class Person:\n",
    "    def __init__(self, name):\n",
    "        self.__name = name  # Private attribute\n",
    "\n",
    "    def get_name(self):\n",
    "        return self.__name\n",
    "\n",
    "    def set_name(self, name):\n",
    "        self.__name = name\n",
    "\n",
    "person = Person(\"Alice\")\n",
    "print(person.get_name())   \n",
    "person.set_name(\"Bob\")\n",
    "print(person.get_name())"
   ]
  },
  {
   "cell_type": "code",
   "execution_count": null,
   "id": "22de46d9-b058-44d7-80c2-9cbe3b15bbbd",
   "metadata": {},
   "outputs": [],
   "source": [
    "#6. Getter and Setter Methods\n",
    "#Getters and setters provide controlled access to private attributes.\n",
    " \n",
    "class Person:\n",
    "    def __init__(self, name):\n",
    "        self.__name = name\n",
    "\n",
    "    def get_name(self):  # Getter\n",
    "        return self.__name\n",
    "\n",
    "    def set_name(self, name):  # Setter\n",
    "        self.__name = name\n"
   ]
  },
  {
   "cell_type": "code",
   "execution_count": 56,
   "id": "41de2fd0-718b-437e-9bf9-57a21d1f2e6e",
   "metadata": {},
   "outputs": [
    {
     "name": "stdout",
     "output_type": "stream",
     "text": [
      "Alice\n"
     ]
    }
   ],
   "source": [
    "#7. Name Mangling\n",
    "#Name mangling changes the name of private attributes to _ClassName__attribute to avoid accidental access.\n",
    "class Person:\n",
    "    def __init__(self, name):\n",
    "        self.__name = name\n",
    "\n",
    "person = Person(\"Alice\")\n",
    "# print(person.__name)  # Error: AttributeError\n",
    "print(person._Person__name)  # Output: Alice (name mangling)"
   ]
  },
  {
   "cell_type": "code",
   "execution_count": 57,
   "id": "a46327a3-4107-4dcc-adb7-7ba93dfb92fb",
   "metadata": {},
   "outputs": [
    {
     "name": "stdout",
     "output_type": "stream",
     "text": [
      "1300\n"
     ]
    }
   ],
   "source": [
    "#8. BankAccount Class\n",
    "class BankAccount:\n",
    "    def __init__(self, account_number, balance):\n",
    "        self.__account_number = account_number\n",
    "        self.__balance = balance\n",
    "\n",
    "    def deposit(self, amount):\n",
    "        self.__balance += amount\n",
    "\n",
    "    def withdraw(self, amount):\n",
    "        if amount <= self.__balance:\n",
    "            self.__balance -= amount\n",
    "        else:\n",
    "            print(\"Insufficient balance\")\n",
    "\n",
    "    def get_balance(self):\n",
    "        return self.__balance\n",
    "\n",
    "account = BankAccount(\"12345\", 1000)\n",
    "account.deposit(500)\n",
    "account.withdraw(200)\n",
    "print(account.get_balance())"
   ]
  },
  {
   "cell_type": "code",
   "execution_count": null,
   "id": "535192f6-d042-4dcd-9de2-3b02e3fe0d3e",
   "metadata": {},
   "outputs": [],
   "source": [
    "#9. Advantages of Encapsulation\n",
    "#Maintainability: Easier to modify code without affecting other parts.\n",
    "\n",
    "#Security: Protects data from unauthorized access."
   ]
  },
  {
   "cell_type": "code",
   "execution_count": 59,
   "id": "5a2dd97b-4ba5-429f-9236-89170b70f9d9",
   "metadata": {},
   "outputs": [
    {
     "name": "stdout",
     "output_type": "stream",
     "text": [
      "Alice\n"
     ]
    }
   ],
   "source": [
    "#10. Accessing Private Attributes\n",
    "#Use name mangling to access private attributes.\n",
    " \n",
    "class Person:\n",
    "    def __init__(self, name):\n",
    "        self.__name = name\n",
    "\n",
    "person = Person(\"Alice\")\n",
    "print(person._Person__name)"
   ]
  },
  {
   "cell_type": "code",
   "execution_count": null,
   "id": "7213a9dc-f85b-4e3a-ac21-e400a27eb5dc",
   "metadata": {},
   "outputs": [],
   "source": [
    "#1. School System Hierarchy\n",
    " \n",
    "class Person:\n",
    "    def __init__(self, name):\n",
    "        self.__name = name\n",
    "\n",
    "    def get_name(self):\n",
    "        return self.__name\n",
    "\n",
    "class Student(Person):\n",
    "    def __init__(self, name, student_id):\n",
    "        super().__init__(name)\n",
    "        self.__student_id = student_id\n",
    "\n",
    "    def get_student_id(self):\n",
    "        return self.__student_id\n",
    "\n",
    "class Teacher(Person):\n",
    "    def __init__(self, name, subject):\n",
    "        super().__init__(name)\n",
    "        self.__subject = subject\n",
    "\n",
    "    def get_subject(self):\n",
    "        return self.__subject"
   ]
  },
  {
   "cell_type": "code",
   "execution_count": 60,
   "id": "66399aa9-9b54-4b78-a7d2-6f98687bac11",
   "metadata": {},
   "outputs": [
    {
     "name": "stdout",
     "output_type": "stream",
     "text": [
      "Alice\n",
      "Bob\n"
     ]
    }
   ],
   "source": [
    "#12. Property Decorators\n",
    "#Property decorators allow controlled access to attributes.\n",
    " \n",
    "class Person:\n",
    "    def __init__(self, name):\n",
    "        self.__name = name\n",
    "\n",
    "    @property\n",
    "    def name(self):\n",
    "        return self.__name\n",
    "\n",
    "    @name.setter\n",
    "    def name(self, name):\n",
    "        self.__name = name\n",
    "\n",
    "person = Person(\"Alice\")\n",
    "print(person.name)  \n",
    "person.name = \"Bob\"\n",
    "print(person.name)  "
   ]
  },
  {
   "cell_type": "code",
   "execution_count": 61,
   "id": "5072836d-9c9c-4650-bc99-5aca53fb9f0b",
   "metadata": {},
   "outputs": [],
   "source": [
    "#3. Data Hiding\n",
    "#Data hiding ensures that internal data is not directly accessible, improving security.\n",
    " \n",
    "class Person:\n",
    "    def __init__(self, name):\n",
    "        self.__name = name\n",
    "\n",
    "    def get_name(self):\n",
    "        return self.__name"
   ]
  },
  {
   "cell_type": "code",
   "execution_count": 63,
   "id": "8adb7fe7-94ee-47df-947e-9b97c6a5839f",
   "metadata": {},
   "outputs": [
    {
     "name": "stdout",
     "output_type": "stream",
     "text": [
      "5000.0\n"
     ]
    }
   ],
   "source": [
    "#14. Employee Class\n",
    "class Employee:\n",
    "    def __init__(self, employee_id, salary):\n",
    "        self.__employee_id = employee_id\n",
    "        self.__salary = salary\n",
    "\n",
    "    def calculate_bonus(self, percentage):\n",
    "        return self.__salary * (percentage / 100)\n",
    "\n",
    "employee = Employee(\"E123\", 50000)\n",
    "print(employee.calculate_bonus(10))"
   ]
  },
  {
   "cell_type": "code",
   "execution_count": 65,
   "id": "994c0c72-a3b5-4de0-9b99-9e9d5b2ef8e5",
   "metadata": {},
   "outputs": [],
   "source": [
    "#15. Accessors and Mutators\n",
    "#Accessors (getters) and mutators (setters) control access to attributes.\n",
    "class Person:\n",
    "    def __init__(self, name):\n",
    "        self.__name = name\n",
    "\n",
    "    def get_name(self):  # Accessor\n",
    "        return self.__name\n",
    "\n",
    "    def set_name(self, name):  # Mutator\n",
    "        self.__name = name"
   ]
  },
  {
   "cell_type": "code",
   "execution_count": null,
   "id": "398023b6-808c-43c1-9ad2-cf8dcee05a8a",
   "metadata": {},
   "outputs": [],
   "source": [
    "#16. Drawbacks of Encapsulation\n",
    "#Can add complexity to the code.\n",
    "\n",
    "#May reduce flexibility in some cases."
   ]
  },
  {
   "cell_type": "code",
   "execution_count": 68,
   "id": "e417a14e-6648-406c-8a42-f3b181856d26",
   "metadata": {},
   "outputs": [
    {
     "name": "stdout",
     "output_type": "stream",
     "text": [
      "False\n"
     ]
    }
   ],
   "source": [
    "#17. Library System\n",
    "class Book:\n",
    "    def __init__(self, title, author):\n",
    "        self.__title = title\n",
    "        self.__author = author\n",
    "        self.__available = True\n",
    "\n",
    "    def is_available(self):\n",
    "        return self.__available\n",
    "\n",
    "    def borrow(self):\n",
    "        if self.__available:\n",
    "            self.__available = False\n",
    "        else:\n",
    "            print(\"Book is not available\")\n",
    "\n",
    "    def return_book(self):\n",
    "        self.__available = True\n",
    "\n",
    "book = Book(\"1984\", \"George Orwell\")\n",
    "book.borrow()\n",
    "print(book.is_available())"
   ]
  },
  {
   "cell_type": "code",
   "execution_count": null,
   "id": "ea92116c-e1a7-429c-ad41-2e67a1f24411",
   "metadata": {},
   "outputs": [],
   "source": [
    "#8. Encapsulation and Code Reusability\n",
    "#Encapsulation promotes modularity, making code easier to reuse and maintain"
   ]
  },
  {
   "cell_type": "code",
   "execution_count": 69,
   "id": "6260648b-2089-41e2-8083-24e2f6705d21",
   "metadata": {},
   "outputs": [],
   "source": [
    "#19. Information Hiding\n",
    "#Information hiding ensures that implementation details are hidden, reducing complexity and improving security."
   ]
  },
  {
   "cell_type": "code",
   "execution_count": 70,
   "id": "b85ca796-989f-42db-ad7e-3b3e7d0d3d8c",
   "metadata": {},
   "outputs": [
    {
     "name": "stdout",
     "output_type": "stream",
     "text": [
      "Alice\n"
     ]
    }
   ],
   "source": [
    "#20. Customer Class\n",
    "class Customer:\n",
    "    def __init__(self, name, address, contact):\n",
    "        self.__name = name\n",
    "        self.__address = address\n",
    "        self.__contact = contact\n",
    "\n",
    "    def get_name(self):\n",
    "        return self.__name\n",
    "\n",
    "    def set_name(self, name):\n",
    "        self.__name = name\n",
    "\n",
    "    def get_contact(self):\n",
    "        return self.__contact\n",
    "\n",
    "customer = Customer(\"Alice\", \"123 Street\", \"555-1234\")\n",
    "print(customer.get_name())"
   ]
  },
  {
   "cell_type": "code",
   "execution_count": 71,
   "id": "8f9df7f5-b30c-4df7-aae1-35fec93c374c",
   "metadata": {},
   "outputs": [],
   "source": [
    "##### POLYMORPHISM"
   ]
  },
  {
   "cell_type": "code",
   "execution_count": 72,
   "id": "fd4a2c2b-a4d6-40c1-902a-6c87c0a67ce9",
   "metadata": {},
   "outputs": [],
   "source": [
    "#1. What is polymorphism in Python? Explain how it is related to object-oriented programming.\n",
    "#2. Describe the difference between compile-time polymorphism and runtime polymorphism in Python.\n",
    "#3. Create a Python class hierarchy for shapes (e.g., circle, square, triangle) and demonstrate polymorphism through a common method, such as `calculate_area()`.\n",
    "#4. Explain the concept of method overriding in polymorphism. Provide an example.\n",
    "#5. How is polymorphism different from method overloading in Python? Provide examples for both.\n",
    "#6. Create a Python class called `Animal` with a method `speak()`. Then, create child classes like `Dog`, `Cat`, and `Bird`, each with their own `speak()` method. Demonstrate polymorphism by calling the `speak()` method on objects of different subclasses.\n",
    "#7. Discuss the use of abstract methods and classes in achieving polymorphism in Python. Provide an example using the `abc` module.\n",
    "#8. Create a Python class hierarchy for a vehicle system (e.g., car, bicycle, boat) and implement a polymorphic `start()` method that prints a message specific to each vehicle type.\n",
    "#9. Explain the significance of the `isinstance()` and `issubclass()` functions in Python polymorphism.\n",
    "#10. What is the role of the `@abstractmethod` decorator in achieving polymorphism in Python? Provide an example.\n",
    "#11. Create a Python class called `Shape` with a polymorphic method `area()` that calculates the area of different shapes (e.g., circle, rectangle, triangle).\n",
    "#12. Discuss the benefits of polymorphism in terms of code reusability and flexibility in Python programs.\n",
    "#13. Explain the use of the `super()` function in Python polymorphism. How does it help call methods of parent classes?\n",
    "#14. Create a Python class hierarchy for a banking system with various account types (e.g., savings, checking, credit card) and demonstrate polymorphism by implementing a common `withdraw()` method.\n",
    "#15. Describe the concept of operator overloading in Python and how it relates to polymorphism. Provide examples using operators like `+` and `*`.\n",
    "#16. What is dynamic polymorphism, and how is it achieved in Python?\n",
    "#17. Create a Python class hierarchy for employees in a company (e.g., manager, developer, designer) and implement polymorphism through a common `calculate_salary()` method.\n",
    "#18. Discuss the concept of function pointers and how they can be used to achieve polymorphism in Python.\n",
    "#19. Explain the role of interfaces and abstract classes in polymorphism, drawing comparisons between them.\n",
    "#20. Create a Python class for a zoo simulation, demonstrating polymorphism with different"
   ]
  },
  {
   "cell_type": "code",
   "execution_count": 73,
   "id": "272070fd-6990-432c-bd21-6c79efaf5734",
   "metadata": {},
   "outputs": [
    {
     "name": "stdout",
     "output_type": "stream",
     "text": [
      "Woof!\n",
      "Meow!\n"
     ]
    }
   ],
   "source": [
    "#1. Polymorphism in Python\n",
    "#Polymorphism allows objects of different classes to be treated as objects of a common superclass. It enables flexibility and code reuse.\n",
    " \n",
    "class Animal:\n",
    "    def speak(self):\n",
    "        pass\n",
    "\n",
    "class Dog(Animal):\n",
    "    def speak(self):\n",
    "        return \"Woof!\"\n",
    "\n",
    "class Cat(Animal):\n",
    "    def speak(self):\n",
    "        return \"Meow!\"\n",
    "\n",
    "animals = [Dog(), Cat()]\n",
    "for animal in animals:\n",
    "    print(animal.speak())"
   ]
  },
  {
   "cell_type": "code",
   "execution_count": 75,
   "id": "4c9f5a5e-6ccd-4e12-870f-b0ead0d0a549",
   "metadata": {},
   "outputs": [],
   "source": [
    "#2. Compile-time vs Runtime Polymorphism\n",
    "#Compile-time Polymorphism: Achieved through method overloading (not directly supported in Python).\n",
    "#Runtime Polymorphism: Achieved through method overriding.\n",
    " \n",
    "# Runtime Polymorphism\n",
    "class Animal:\n",
    "    def speak(self):\n",
    "        pass\n",
    "\n",
    "class Dog(Animal):\n",
    "    def speak(self):\n",
    "        return \"Woof!\""
   ]
  },
  {
   "cell_type": "code",
   "execution_count": 76,
   "id": "2eb6d75c-8e92-4937-a8ae-27847ee837eb",
   "metadata": {},
   "outputs": [
    {
     "name": "stdout",
     "output_type": "stream",
     "text": [
      "78.5\n",
      "16\n"
     ]
    }
   ],
   "source": [
    "#3. Shape Hierarchy with Polymorphism\n",
    "class Shape:\n",
    "    def area(self):\n",
    "        pass\n",
    "\n",
    "class Circle(Shape):\n",
    "    def __init__(self, radius):\n",
    "        self.radius = radius\n",
    "\n",
    "    def area(self):\n",
    "        return 3.14 * self.radius ** 2\n",
    "\n",
    "class Square(Shape):\n",
    "    def __init__(self, side):\n",
    "        self.side = side\n",
    "\n",
    "    def area(self):\n",
    "        return self.side ** 2\n",
    "\n",
    "shapes = [Circle(5), Square(4)]\n",
    "for shape in shapes:\n",
    "    print(shape.area()) "
   ]
  },
  {
   "cell_type": "code",
   "execution_count": 77,
   "id": "17ed12cc-6205-4fa6-ac13-1a0e4080ee4a",
   "metadata": {},
   "outputs": [
    {
     "name": "stdout",
     "output_type": "stream",
     "text": [
      "Woof!\n"
     ]
    }
   ],
   "source": [
    "#4. Method Overriding\n",
    "#Child classes override methods of the parent class.\n",
    "\n",
    "class Animal:\n",
    "    def speak(self):\n",
    "        return \"Animal speaks\"\n",
    "\n",
    "class Dog(Animal):\n",
    "    def speak(self):\n",
    "        return \"Woof!\"\n",
    "\n",
    "dog = Dog()\n",
    "print(dog.speak()) "
   ]
  },
  {
   "cell_type": "code",
   "execution_count": 79,
   "id": "f22cdb22-4d8b-4c41-a951-61c69dba46fe",
   "metadata": {},
   "outputs": [
    {
     "name": "stdout",
     "output_type": "stream",
     "text": [
      "5\n",
      "15\n"
     ]
    }
   ],
   "source": [
    "#5. Polymorphism vs Method Overloading\n",
    "#Polymorphism: Method overriding (runtime).\n",
    "#Method Overloading: Multiple methods with the same name but different parameters (not directly supported in Python).\n",
    "\n",
    "# Polymorphism\n",
    "class Animal:\n",
    "    def speak(self):\n",
    "        pass\n",
    "\n",
    "class Dog(Animal):\n",
    "    def speak(self):\n",
    "        return \"Woof!\"\n",
    "\n",
    "# Method Overloading (simulated)\n",
    "class Calculator:\n",
    "    def add(self, a, b=None):\n",
    "        if b is None:\n",
    "            return a\n",
    "        return a + b\n",
    "\n",
    "calc = Calculator()\n",
    "print(calc.add(5))  \n",
    "print(calc.add(5, 10)) "
   ]
  },
  {
   "cell_type": "code",
   "execution_count": 80,
   "id": "7b78f8f1-d19a-4392-8364-39c3ca73a826",
   "metadata": {},
   "outputs": [
    {
     "name": "stdout",
     "output_type": "stream",
     "text": [
      "Woof!\n",
      "Meow!\n",
      "Chirp!\n"
     ]
    }
   ],
   "source": [
    "#6. Animal, Dog, Cat, and Bird Classes\n",
    "\n",
    "class Animal:\n",
    "    def speak(self):\n",
    "        pass\n",
    "\n",
    "class Dog(Animal):\n",
    "    def speak(self):\n",
    "        return \"Woof!\"\n",
    "\n",
    "class Cat(Animal):\n",
    "    def speak(self):\n",
    "        return \"Meow!\"\n",
    "\n",
    "class Bird(Animal):\n",
    "    def speak(self):\n",
    "        return \"Chirp!\"\n",
    "\n",
    "animals = [Dog(), Cat(), Bird()]\n",
    "for animal in animals:\n",
    "    print(animal.speak())"
   ]
  },
  {
   "cell_type": "code",
   "execution_count": 81,
   "id": "d3088b5c-45fb-49d8-80bb-5ce1e1418910",
   "metadata": {},
   "outputs": [
    {
     "name": "stdout",
     "output_type": "stream",
     "text": [
      "78.5\n"
     ]
    }
   ],
   "source": [
    "#7. Abstract Methods and Classes\n",
    "#Abstract classes define a blueprint for other classes.\n",
    "from abc import ABC, abstractmethod\n",
    "\n",
    "class Shape(ABC):\n",
    "    @abstractmethod\n",
    "    def area(self):\n",
    "        pass\n",
    "\n",
    "class Circle(Shape):\n",
    "    def __init__(self, radius):\n",
    "        self.radius = radius\n",
    "\n",
    "    def area(self):\n",
    "        return 3.14 * self.radius ** 2\n",
    "\n",
    "circle = Circle(5)\n",
    "print(circle.area()) "
   ]
  },
  {
   "cell_type": "code",
   "execution_count": 82,
   "id": "f915bd7a-0cfc-4f96-8be9-d18ab7cb3727",
   "metadata": {},
   "outputs": [
    {
     "name": "stdout",
     "output_type": "stream",
     "text": [
      "Car started\n",
      "Bicycle started\n"
     ]
    }
   ],
   "source": [
    "#8. Vehicle Hierarchy with Polymorphism\n",
    " \n",
    "class Vehicle:\n",
    "    def start(self):\n",
    "        pass\n",
    "\n",
    "class Car(Vehicle):\n",
    "    def start(self):\n",
    "        return \"Car started\"\n",
    "\n",
    "class Bicycle(Vehicle):\n",
    "    def start(self):\n",
    "        return \"Bicycle started\"\n",
    "\n",
    "vehicles = [Car(), Bicycle()]\n",
    "for vehicle in vehicles:\n",
    "    print(vehicle.start()) "
   ]
  },
  {
   "cell_type": "code",
   "execution_count": 83,
   "id": "a15b224b-4c37-4e60-91a7-f9aa98df86da",
   "metadata": {},
   "outputs": [
    {
     "name": "stdout",
     "output_type": "stream",
     "text": [
      "True\n",
      "True\n"
     ]
    }
   ],
   "source": [
    "#9. isinstance() and issubclass()\n",
    "#isinstance() checks if an object is an instance of a class.\n",
    "#issubclass() checks if a class is a subclass of another.\n",
    " \n",
    "print(isinstance(Dog(), Animal))   \n",
    "print(issubclass(Dog, Animal))   "
   ]
  },
  {
   "cell_type": "code",
   "execution_count": 84,
   "id": "9a00f512-1065-4d68-906f-084fc216c4ea",
   "metadata": {},
   "outputs": [],
   "source": [
    "#10. @abstractmethod Decorator\n",
    "#Ensures that subclasses implement the abstract method.\n",
    " \n",
    "from abc import ABC, abstractmethod\n",
    "\n",
    "class Shape(ABC):\n",
    "    @abstractmethod\n",
    "    def area(self):\n",
    "        pass\n",
    "\n",
    "class Circle(Shape):\n",
    "    def __init__(self, radius):\n",
    "        self.radius = radius\n",
    "\n",
    "    def area(self):\n",
    "        return 3.14 * self.radius ** 2"
   ]
  },
  {
   "cell_type": "code",
   "execution_count": 85,
   "id": "29b8dc81-c1db-4051-81fc-ddedcfdb6735",
   "metadata": {},
   "outputs": [
    {
     "name": "stdout",
     "output_type": "stream",
     "text": [
      "78.5\n",
      "24\n"
     ]
    }
   ],
   "source": [
    "#11. Shape Class with Polymorphic area()\n",
    "class Shape:\n",
    "    def area(self):\n",
    "        pass\n",
    "\n",
    "class Circle(Shape):\n",
    "    def __init__(self, radius):\n",
    "        self.radius = radius\n",
    "\n",
    "    def area(self):\n",
    "        return 3.14 * self.radius ** 2\n",
    "\n",
    "class Rectangle(Shape):\n",
    "    def __init__(self, width, height):\n",
    "        self.width = width\n",
    "        self.height = height\n",
    "\n",
    "    def area(self):\n",
    "        return self.width * self.height\n",
    "\n",
    "shapes = [Circle(5), Rectangle(4, 6)]\n",
    "for shape in shapes:\n",
    "    print(shape.area())  "
   ]
  },
  {
   "cell_type": "code",
   "execution_count": 86,
   "id": "624a6bb4-a377-4057-92e1-36d4ae510787",
   "metadata": {},
   "outputs": [],
   "source": [
    "#12. Benefits of Polymorphism\n",
    "#Code Reusability: Common interfaces reduce redundancy.\n",
    "\n",
    "#Flexibility: Easily extendable with new subclasses."
   ]
  },
  {
   "cell_type": "code",
   "execution_count": null,
   "id": "557a4e1c-9aad-40bc-88c0-e25afeb92534",
   "metadata": {},
   "outputs": [],
   "source": [
    "#13. super() in Polymorphism\n",
    "#super() calls methods of the parent class.\n",
    " \n",
    "class Animal:\n",
    "    def speak(self):\n",
    "        return \"Animal speaks\"\n",
    "\n",
    "class Dog(Animal):\n",
    "    def speak(self):\n",
    "        return super().speak() + \" and barks\"\n",
    "\n",
    "dog = Dog()\n",
    "print(dog.speak())  # Output: Animal speaks and barks"
   ]
  },
  {
   "cell_type": "code",
   "execution_count": 88,
   "id": "45ef1e75-e2a7-4d11-9a68-18edcdf16583",
   "metadata": {},
   "outputs": [
    {
     "name": "stdout",
     "output_type": "stream",
     "text": [
      "Withdrew 100 from savings\n",
      "Withdrew 100 from checking\n"
     ]
    }
   ],
   "source": [
    "#4. Banking System with Polymorphism\n",
    "class Account:\n",
    "    def withdraw(self, amount):\n",
    "        pass\n",
    "\n",
    "class SavingsAccount(Account):\n",
    "    def withdraw(self, amount):\n",
    "        return f\"Withdrew {amount} from savings\"\n",
    "\n",
    "class CheckingAccount(Account):\n",
    "    def withdraw(self, amount):\n",
    "        return f\"Withdrew {amount} from checking\"\n",
    "\n",
    "accounts = [SavingsAccount(), CheckingAccount()]\n",
    "for account in accounts:\n",
    "    print(account.withdraw(100))  "
   ]
  },
  {
   "cell_type": "code",
   "execution_count": 89,
   "id": "0c27f5b2-b93d-476d-84f5-2b99f86cdebb",
   "metadata": {},
   "outputs": [
    {
     "name": "stdout",
     "output_type": "stream",
     "text": [
      "4 6\n"
     ]
    }
   ],
   "source": [
    "#5. Operator Overloading\n",
    "#Polymorphism through operator overloading.\n",
    " \n",
    "class Point:\n",
    "    def __init__(self, x, y):\n",
    "        self.x = x\n",
    "        self.y = y\n",
    "\n",
    "    def __add__(self, other):\n",
    "        return Point(self.x + other.x, self.y + other.y)\n",
    "\n",
    "p1 = Point(1, 2)\n",
    "p2 = Point(3, 4)\n",
    "p3 = p1 + p2\n",
    "print(p3.x, p3.y)   \n"
   ]
  },
  {
   "cell_type": "code",
   "execution_count": 90,
   "id": "5b319dfd-5154-4fc1-a4d3-3134d698701a",
   "metadata": {},
   "outputs": [
    {
     "name": "stdout",
     "output_type": "stream",
     "text": [
      "Woof!\n"
     ]
    }
   ],
   "source": [
    "#16. Dynamic Polymorphism\n",
    "#Achieved at runtime through method overriding.\n",
    " \n",
    "class Animal:\n",
    "    def speak(self):\n",
    "        pass\n",
    "\n",
    "class Dog(Animal):\n",
    "    def speak(self):\n",
    "        return \"Woof!\"\n",
    "\n",
    "animal = Dog()\n",
    "print(animal.speak()) "
   ]
  },
  {
   "cell_type": "code",
   "execution_count": 91,
   "id": "8dbe31f5-7347-4de0-8ced-7198437f114f",
   "metadata": {},
   "outputs": [
    {
     "name": "stdout",
     "output_type": "stream",
     "text": [
      "5000\n",
      "4000\n"
     ]
    }
   ],
   "source": [
    "#7. Employee Hierarchy with Polymorphism\n",
    "class Employee:\n",
    "    def calculate_salary(self):\n",
    "        pass\n",
    "\n",
    "class Manager(Employee):\n",
    "    def calculate_salary(self):\n",
    "        return 5000\n",
    "\n",
    "class Developer(Employee):\n",
    "    def calculate_salary(self):\n",
    "        return 4000\n",
    "\n",
    "employees = [Manager(), Developer()]\n",
    "for employee in employees:\n",
    "    print(employee.calculate_salary())"
   ]
  },
  {
   "cell_type": "code",
   "execution_count": 92,
   "id": "e36a2114-5a26-4576-a64f-5e623d92dc4b",
   "metadata": {},
   "outputs": [
    {
     "name": "stdout",
     "output_type": "stream",
     "text": [
      "Woof!\n",
      "Meow!\n"
     ]
    }
   ],
   "source": [
    "#18. Function Pointers\n",
    "#Functions can be passed as arguments to achieve polymorphism.\n",
    " \n",
    "def speak_dog():\n",
    "    return \"Woof!\"\n",
    "\n",
    "def speak_cat():\n",
    "    return \"Meow!\"\n",
    "\n",
    "def speak(animal):\n",
    "    return animal()\n",
    "\n",
    "print(speak(speak_dog))  \n",
    "print(speak(speak_cat)) "
   ]
  },
  {
   "cell_type": "code",
   "execution_count": 93,
   "id": "c2143ad3-2c90-4341-bbaf-a358f03ef76e",
   "metadata": {},
   "outputs": [],
   "source": [
    "#19. Interfaces vs Abstract Classes\n",
    "#Interfaces: Define a contract (not directly supported in Python).\n",
    "#Abstract Classes: Provide a partial implementation.\n",
    "\n",
    "from abc import ABC, abstractmethod\n",
    "\n",
    "class Shape(ABC):\n",
    "    @abstractmethod\n",
    "    def area(self):\n",
    "        pass\n",
    "\n",
    "class Circle(Shape):\n",
    "    def area(self):\n",
    "        return 3.14 * self.radius ** 2"
   ]
  },
  {
   "cell_type": "code",
   "execution_count": 94,
   "id": "6262b3d7-7c43-40c9-80c1-03b416883d17",
   "metadata": {},
   "outputs": [
    {
     "name": "stdout",
     "output_type": "stream",
     "text": [
      "Roar!\n",
      "Trumpet!\n"
     ]
    }
   ],
   "source": [
    "#20. Zoo Simulation\n",
    "class Animal:\n",
    "    def speak(self):\n",
    "        pass\n",
    "\n",
    "class Lion(Animal):\n",
    "    def speak(self):\n",
    "        return \"Roar!\"\n",
    "\n",
    "class Elephant(Animal):\n",
    "    def speak(self):\n",
    "        return \"Trumpet!\"\n",
    "\n",
    "zoo = [Lion(), Elephant()]\n",
    "for animal in zoo:\n",
    "    print(animal.speak())"
   ]
  },
  {
   "cell_type": "code",
   "execution_count": null,
   "id": "13d3f677-c91b-446a-ab34-58ba9603a5fe",
   "metadata": {},
   "outputs": [],
   "source": [
    "###### ABSTRACTION"
   ]
  },
  {
   "cell_type": "code",
   "execution_count": 95,
   "id": "96d12c9c-0d5f-4a7c-9734-362c1d148efb",
   "metadata": {},
   "outputs": [],
   "source": [
    "#1. What is abstraction in Python, and how does it relate to object-oriented programming?\n",
    "#2. Describe the benefits of abstraction in terms of code organization and complexity reduction.\n",
    "#3. Create a Python class called `Shape` with an abstract method `calculate_area()`. Then, create child classes (e.g., `Circle`, `Rectangle`) that implement the `calculate_area()` method. Provide an example of using these classes.\n",
    "#4. Explain the concept of abstract classes in Python and how they are defined using the `abc` module. Provide an example.\n",
    "#5. How do abstract classes differ from regular classes in Python? Discuss their use cases.\n",
    "#6. Create a Python class for a bank account and demonstrate abstraction by hiding the account balance and providing methods to deposit and withdraw funds.\n",
    "#7. Discuss the concept of interface classes in Python and their role in achieving abstraction.\n",
    "#8. Create a Python class hierarchy for animals and implement abstraction by defining common methods (e.g., `eat()`, `sleep()`) in an abstract base class.\n",
    "#9. Explain the significance of encapsulation in achieving abstraction. Provide examples.\n",
    "#10. What is the purpose of abstract methods, and how do they enforce abstraction in Python classes?\n",
    "#11. Create a Python class for a vehicle system and demonstrate abstraction by defining common methods (e.g., `start()`, `stop()`) in an abstract base class.\n",
    "#12. Describe the use of abstract properties in Python and how they can be employed in abstract classes.\n",
    "#13. Create a Python class hierarchy for employees in a company (e.g., manager, developer, designer) and implement abstraction by defining a common `get_salary()` method.\n",
    "#14. Discuss the differences between abstract classes and concrete classes in Python, including their instantiation.\n",
    "#15. Explain the concept of abstract data types (ADTs) and their role in achieving abstraction in Python.\n",
    "#16. Create a Python class for a computer system, demonstrating abstraction by defining common methods (e.g., `power_on()`, `shutdown()`) in an abstract base class.\n",
    "#17. Discuss the benefits of using abstraction in large-scale software development projects.\n",
    "#18. Explain how abstraction enhances code reusability and modularity in Python programs.\n",
    "#19. Create a Python class for a library system, implementing abstraction by defining common methods (e.g., `add_book()`, `borrow_book()`) in an abstract base class.\n",
    "#20. Describe the concept of method abstraction in Python and how it relates to polymorphism."
   ]
  },
  {
   "cell_type": "code",
   "execution_count": 96,
   "id": "05af6517-3d8d-4bea-b110-0c31bc67a93c",
   "metadata": {},
   "outputs": [],
   "source": [
    "#1. Abstraction in Python\n",
    "#Abstraction hides complex implementation details and exposes only essential features. It simplifies code and improves maintainability.\n",
    "from abc import ABC, abstractmethod\n",
    "\n",
    "class Shape(ABC):\n",
    "    @abstractmethod\n",
    "    def calculate_area(self):\n",
    "        pass"
   ]
  },
  {
   "cell_type": "code",
   "execution_count": null,
   "id": "dd303c6d-cfc9-4cb5-bbc1-fe721e10d5fe",
   "metadata": {},
   "outputs": [],
   "source": [
    "#2. Benefits of Abstraction\n",
    "#Code Organization: Separates what an object does from how it does it.\n",
    "#Complexity Reduction: Simplifies interaction with complex systems."
   ]
  },
  {
   "cell_type": "code",
   "execution_count": 97,
   "id": "8808d778-1266-4449-8a9f-6ea7c0701ab8",
   "metadata": {},
   "outputs": [
    {
     "name": "stdout",
     "output_type": "stream",
     "text": [
      "78.5\n",
      "24\n"
     ]
    }
   ],
   "source": [
    "#3. Shape Class with Abstraction\n",
    "from abc import ABC, abstractmethod\n",
    "\n",
    "class Shape(ABC):\n",
    "    @abstractmethod\n",
    "    def calculate_area(self):\n",
    "        pass\n",
    "\n",
    "class Circle(Shape):\n",
    "    def __init__(self, radius):\n",
    "        self.radius = radius\n",
    "\n",
    "    def calculate_area(self):\n",
    "        return 3.14 * self.radius ** 2\n",
    "\n",
    "class Rectangle(Shape):\n",
    "    def __init__(self, width, height):\n",
    "        self.width = width\n",
    "        self.height = height\n",
    "\n",
    "    def calculate_area(self):\n",
    "        return self.width * self.height\n",
    "\n",
    "shapes = [Circle(5), Rectangle(4, 6)]\n",
    "for shape in shapes:\n",
    "    print(shape.calculate_area()) \n"
   ]
  },
  {
   "cell_type": "code",
   "execution_count": 99,
   "id": "d05de8dd-9262-4c8d-ac16-906098bc2538",
   "metadata": {},
   "outputs": [
    {
     "name": "stdout",
     "output_type": "stream",
     "text": [
      "Woof!\n"
     ]
    }
   ],
   "source": [
    "#4. Abstract Classes with abc Module\n",
    "#Abstract classes cannot be instantiated and require subclasses to implement abstract methods.\n",
    " \n",
    "from abc import ABC, abstractmethod\n",
    "\n",
    "class Animal(ABC):\n",
    "    @abstractmethod\n",
    "    def speak(self):\n",
    "        pass\n",
    "\n",
    "class Dog(Animal):\n",
    "    def speak(self):\n",
    "        return \"Woof!\"\n",
    "\n",
    "dog = Dog()\n",
    "print(dog.speak())"
   ]
  },
  {
   "cell_type": "code",
   "execution_count": 101,
   "id": "25706dcc-c2a1-47a2-a755-a058389850db",
   "metadata": {},
   "outputs": [],
   "source": [
    "#5. Abstract vs Regular Classes\n",
    "#Abstract Classes: Cannot be instantiated; used as blueprints.\n",
    "#Regular Classes: Can be instantiated directly.\n",
    "\n",
    "# Abstract Class\n",
    "class Shape(ABC):\n",
    "    @abstractmethod\n",
    "    def area(self):\n",
    "        pass\n",
    "\n",
    "# Regular Class\n",
    "class Circle:\n",
    "    def area(self):\n",
    "        return 3.14 * self.radius ** 2"
   ]
  },
  {
   "cell_type": "code",
   "execution_count": 102,
   "id": "c39fbd2e-14d6-4321-8303-63dd5cc85aad",
   "metadata": {},
   "outputs": [
    {
     "name": "stdout",
     "output_type": "stream",
     "text": [
      "1300\n"
     ]
    }
   ],
   "source": [
    "#6. Bank Account Abstraction\n",
    "class BankAccount:\n",
    "    def __init__(self, balance):\n",
    "        self.__balance = balance  # Hidden attribute\n",
    "\n",
    "    def deposit(self, amount):\n",
    "        self.__balance += amount\n",
    "\n",
    "    def withdraw(self, amount):\n",
    "        if amount <= self.__balance:\n",
    "            self.__balance -= amount\n",
    "        else:\n",
    "            print(\"Insufficient balance\")\n",
    "\n",
    "    def get_balance(self):\n",
    "        return self.__balance\n",
    "\n",
    "account = BankAccount(1000)\n",
    "account.deposit(500)\n",
    "account.withdraw(200)\n",
    "print(account.get_balance())  "
   ]
  },
  {
   "cell_type": "code",
   "execution_count": 103,
   "id": "299d870c-85b7-4e2f-99a1-573e809e1b2f",
   "metadata": {},
   "outputs": [],
   "source": [
    "#7. Interface Classes\n",
    "#Python doesn't have interfaces, but abstract classes can serve a similar purpose.\n",
    " \n",
    "from abc import ABC, abstractmethod\n",
    "\n",
    "class PaymentGateway(ABC):\n",
    "    @abstractmethod\n",
    "    def process_payment(self, amount):\n",
    "        pass"
   ]
  },
  {
   "cell_type": "code",
   "execution_count": 104,
   "id": "4fac0ab7-3c95-49c9-9feb-bcdd5a12d255",
   "metadata": {},
   "outputs": [
    {
     "name": "stdout",
     "output_type": "stream",
     "text": [
      "Dog eats\n"
     ]
    }
   ],
   "source": [
    "#8. Animal Hierarchy with Abstraction\n",
    "from abc import ABC, abstractmethod\n",
    "\n",
    "class Animal(ABC):\n",
    "    @abstractmethod\n",
    "    def eat(self):\n",
    "        pass\n",
    "\n",
    "    @abstractmethod\n",
    "    def sleep(self):\n",
    "        pass\n",
    "\n",
    "class Dog(Animal):\n",
    "    def eat(self):\n",
    "        return \"Dog eats\"\n",
    "\n",
    "    def sleep(self):\n",
    "        return \"Dog sleeps\"\n",
    "\n",
    "dog = Dog()\n",
    "print(dog.eat()) "
   ]
  },
  {
   "cell_type": "code",
   "execution_count": 105,
   "id": "df33ebbf-2b92-417d-9002-e2560c969c0b",
   "metadata": {},
   "outputs": [],
   "source": [
    "#9. Encapsulation and Abstraction\n",
    "#Encapsulation hides data, while abstraction hides implementation details.\n",
    " \n",
    "class BankAccount:\n",
    "    def __init__(self, balance):\n",
    "        self.__balance = balance  # Encapsulation\n",
    "\n",
    "    def get_balance(self):  # Abstraction\n",
    "        return self.__balance"
   ]
  },
  {
   "cell_type": "code",
   "execution_count": 106,
   "id": "7886ed10-98d8-4253-8130-fcf5df8276b9",
   "metadata": {},
   "outputs": [
    {
     "name": "stdout",
     "output_type": "stream",
     "text": [
      "Car started\n"
     ]
    }
   ],
   "source": [
    "#10. Abstract Methods\n",
    "#Abstract methods enforce that subclasses implement specific functionality.\n",
    " \n",
    "from abc import ABC, abstractmethod\n",
    "\n",
    "class Vehicle(ABC):\n",
    "    @abstractmethod\n",
    "    def start(self):\n",
    "        pass\n",
    "\n",
    "class Car(Vehicle):\n",
    "    def start(self):\n",
    "        return \"Car started\"\n",
    "\n",
    "car = Car()\n",
    "print(car.start())  "
   ]
  },
  {
   "cell_type": "code",
   "execution_count": 107,
   "id": "c46040ef-b9c9-4dce-9c79-75f5dc396374",
   "metadata": {},
   "outputs": [
    {
     "name": "stdout",
     "output_type": "stream",
     "text": [
      "Car started\n"
     ]
    }
   ],
   "source": [
    "#10. Vehicle System with Abstraction\n",
    " \n",
    "from abc import ABC, abstractmethod\n",
    "\n",
    "class Vehicle(ABC):\n",
    "    @abstractmethod\n",
    "    def start(self):\n",
    "        pass\n",
    "\n",
    "    @abstractmethod\n",
    "    def stop(self):\n",
    "        pass\n",
    "\n",
    "class Car(Vehicle):\n",
    "    def start(self):\n",
    "        return \"Car started\"\n",
    "\n",
    "    def stop(self):\n",
    "        return \"Car stopped\"\n",
    "\n",
    "car = Car()\n",
    "print(car.start()) "
   ]
  },
  {
   "cell_type": "code",
   "execution_count": 108,
   "id": "cdb9f671-714c-43f3-ae6c-611d0587875f",
   "metadata": {},
   "outputs": [
    {
     "name": "stdout",
     "output_type": "stream",
     "text": [
      "78.5\n"
     ]
    }
   ],
   "source": [
    "#12. Abstract Properties\n",
    "#Abstract properties enforce that subclasses implement specific attributes.\n",
    "class Shape(ABC):\n",
    "    @property\n",
    "    @abstractmethod\n",
    "    def area(self):\n",
    "        pass\n",
    "\n",
    "class Circle(Shape):\n",
    "    def __init__(self, radius):\n",
    "        self.radius = radius\n",
    "\n",
    "    @property\n",
    "    def area(self):\n",
    "        return 3.14 * self.radius ** 2\n",
    "\n",
    "circle = Circle(5)\n",
    "print(circle.area)"
   ]
  },
  {
   "cell_type": "code",
   "execution_count": 109,
   "id": "4d2f4d00-36c1-47fa-92c8-0bef1dc5a9be",
   "metadata": {},
   "outputs": [
    {
     "name": "stdout",
     "output_type": "stream",
     "text": [
      "5000\n",
      "4000\n"
     ]
    }
   ],
   "source": [
    "#13. Employee Hierarchy with Abstraction\n",
    "from abc import ABC, abstractmethod\n",
    "\n",
    "class Employee(ABC):\n",
    "    @abstractmethod\n",
    "    def get_salary(self):\n",
    "        pass\n",
    "\n",
    "class Manager(Employee):\n",
    "    def get_salary(self):\n",
    "        return 5000\n",
    "\n",
    "class Developer(Employee):\n",
    "    def get_salary(self):\n",
    "        return 4000\n",
    "\n",
    "employees = [Manager(), Developer()]\n",
    "for employee in employees:\n",
    "    print(employee.get_salary())  "
   ]
  },
  {
   "cell_type": "code",
   "execution_count": null,
   "id": "2f47b8e7-d42d-42f6-a0bb-5e6e773c4855",
   "metadata": {},
   "outputs": [],
   "source": [
    "#14. Abstract vs Concrete Classes\n",
    "#Abstract Classes: Cannot be instantiated; used as blueprints.\n",
    "#Concrete Classes: Can be instantiated directly.\n",
    " \n",
    "# Abstract Class\n",
    "class Shape(ABC):\n",
    "    @abstractmethod\n",
    "    def area(self):\n",
    "        pass\n",
    "\n",
    "# Concrete Class\n",
    "class Circle(Shape):\n",
    "    def area(self):\n",
    "        return 3.14 * self.radius ** 2"
   ]
  },
  {
   "cell_type": "code",
   "execution_count": null,
   "id": "b858c278-92b7-4dbc-902c-1e0a2c429de1",
   "metadata": {},
   "outputs": [],
   "source": [
    "#15. Abstract Data Types (ADTs)\n",
    "#ADTs define a set of operations without specifying implementation details.\n",
    "class Stack:\n",
    "    def __init__(self):\n",
    "        self.items = []\n",
    "\n",
    "    def push(self, item):\n",
    "        self.items.append(item)\n",
    "\n",
    "    def pop(self):\n",
    "        return self.items.pop()"
   ]
  },
  {
   "cell_type": "code",
   "execution_count": 110,
   "id": "b84c9c0c-15bb-4087-9321-7fff6671c3ac",
   "metadata": {},
   "outputs": [
    {
     "name": "stdout",
     "output_type": "stream",
     "text": [
      "Laptop powered on\n"
     ]
    }
   ],
   "source": [
    "#16. Computer System Abstraction\n",
    " \n",
    "from abc import ABC, abstractmethod\n",
    "\n",
    "class Computer(ABC):\n",
    "    @abstractmethod\n",
    "    def power_on(self):\n",
    "        pass\n",
    "\n",
    "    @abstractmethod\n",
    "    def shutdown(self):\n",
    "        pass\n",
    "\n",
    "class Laptop(Computer):\n",
    "    def power_on(self):\n",
    "        return \"Laptop powered on\"\n",
    "\n",
    "    def shutdown(self):\n",
    "        return \"Laptop shut down\"\n",
    "\n",
    "laptop = Laptop()\n",
    "print(laptop.power_on()) "
   ]
  },
  {
   "cell_type": "code",
   "execution_count": 112,
   "id": "35feec11-c48e-48d8-8bb7-24b8d0b1f71e",
   "metadata": {},
   "outputs": [],
   "source": [
    "#17. Benefits of Abstraction in Large Projects\n",
    "#Simplifies collaboration.\n",
    "\n",
    "#Reduces dependencies between modules."
   ]
  },
  {
   "cell_type": "code",
   "execution_count": null,
   "id": "aaae1597-e452-4a69-99a6-4898b1651efe",
   "metadata": {},
   "outputs": [],
   "source": [
    "#18. Abstraction and Code Reusability\n",
    "#Abstraction promotes modularity, making code easier to reuse and maintain."
   ]
  },
  {
   "cell_type": "code",
   "execution_count": 113,
   "id": "4de38e6f-8a8f-4d09-8374-bcc5f31b8301",
   "metadata": {},
   "outputs": [
    {
     "name": "stdout",
     "output_type": "stream",
     "text": [
      "Added 1984 to library\n"
     ]
    }
   ],
   "source": [
    "#19. Library System Abstraction\n",
    "from abc import ABC, abstractmethod\n",
    "\n",
    "class Library(ABC):\n",
    "    @abstractmethod\n",
    "    def add_book(self, book):\n",
    "        pass\n",
    "\n",
    "    @abstractmethod\n",
    "    def borrow_book(self, book):\n",
    "        pass\n",
    "\n",
    "class PublicLibrary(Library):\n",
    "    def add_book(self, book):\n",
    "        return f\"Added {book} to library\"\n",
    "\n",
    "    def borrow_book(self, book):\n",
    "        return f\"Borrowed {book} from library\"\n",
    "\n",
    "library = PublicLibrary()\n",
    "print(library.add_book(\"1984\")) "
   ]
  },
  {
   "cell_type": "code",
   "execution_count": 114,
   "id": "452dc20a-715f-47c0-8f40-4fa30e64737d",
   "metadata": {},
   "outputs": [
    {
     "name": "stdout",
     "output_type": "stream",
     "text": [
      "Woof!\n",
      "Meow!\n"
     ]
    }
   ],
   "source": [
    "#20. Method Abstraction and Polymorphism\n",
    "#Method abstraction ensures consistent interfaces, enabling polymorphism.\n",
    "from abc import ABC, abstractmethod\n",
    "\n",
    "class Animal(ABC):\n",
    "    @abstractmethod\n",
    "    def speak(self):\n",
    "        pass\n",
    "\n",
    "class Dog(Animal):\n",
    "    def speak(self):\n",
    "        return \"Woof!\"\n",
    "\n",
    "class Cat(Animal):\n",
    "    def speak(self):\n",
    "        return \"Meow!\"\n",
    "\n",
    "animals = [Dog(), Cat()]\n",
    "for animal in animals:\n",
    "    print(animal.speak()) "
   ]
  },
  {
   "cell_type": "code",
   "execution_count": null,
   "id": "58f2d1b6-e837-4c31-b03a-812e17d9cb70",
   "metadata": {},
   "outputs": [],
   "source": [
    "######## COMPOSITION"
   ]
  },
  {
   "cell_type": "code",
   "execution_count": 116,
   "id": "9b7a83a5-2484-4f65-918e-e8963e5a854d",
   "metadata": {},
   "outputs": [],
   "source": [
    "#1. Explain the concept of composition in Python and how it is used to build complex objects from simpler ones.\n",
    "#2. Describe the difference between composition and inheritance in object-oriented programming.\n",
    "#3. Create a Python class called `Author` with attributes for name and birthdate. Then, create a `Book` class that contains an instance of `Author` as a composition. Provide an example of creating a `Book` object.\n",
    "#4. Discuss the benefits of using composition over inheritance in Python, especially in terms of code flexibility and reusability.\n",
    "#5. How can you implement composition in Python classes? Provide examples of using composition to create complex objects.\n",
    "#6. Create a Python class hierarchy for a music player system, using composition to represent playlists and songs.\n",
    "#7. Explain the concept of \"has-a\" relationships in composition and how it helps design software systems.\n",
    "#8. Create a Python class for a computer system, using composition to represent components like CPU, RAM, and storage devices.\n",
    "#9. Describe the concept of \"delegation\" in composition and how it simplifies the design of complex systems.\n",
    "#10. Create a Python class for a car, using composition to represent components like the engine, wheels, and transmission.\n",
    "#11. How can you encapsulate and hide the details of composed objects in Python classes to maintain abstraction?\n",
    "#12. Create a Python class for a university course, using composition to represent students, instructors, and course materials.\n",
    "#13. Discuss the challenges and drawbacks of composition, such as increased complexity and potential for tight coupling between objects.\n",
    "#14. Create a Python class hierarchy for a restaurant system, using composition to represent menus, dishes, and ingredients.\n",
    "#15. Explain how composition enhances code maintainability and modularity in Python programs.\n",
    "#16. Create a Python class for a computer game character, using composition to represent attributes like weapons, armor, and inventory.\n",
    "#17. Describe the concept of \"aggregation\" in composition and how it differs from simple composition.\n",
    "#18. Create a Python class for a house, using composition to represent rooms, furniture, and appliances.\n",
    "#19. How can you achieve flexibility in composed objects by allowing them to be replaced or modified dynamically at runtime?\n",
    "#20. Create a Python class for a social media application, using composition to represent users, posts, and comments."
   ]
  },
  {
   "cell_type": "code",
   "execution_count": 117,
   "id": "6a8997cd-1db7-438c-87c4-01d6fd24605d",
   "metadata": {},
   "outputs": [
    {
     "name": "stdout",
     "output_type": "stream",
     "text": [
      "Engine started\n"
     ]
    }
   ],
   "source": [
    "#1. Composition in Python\n",
    "#Composition is a design principle where a class is built by combining instances of other classes. It allows creating complex objects from simpler ones.\n",
    "class Engine:\n",
    "    def start(self):\n",
    "        return \"Engine started\"\n",
    "\n",
    "class Car:\n",
    "    def __init__(self):\n",
    "        self.engine = Engine()  # Composition\n",
    "\n",
    "    def start(self):\n",
    "        return self.engine.start()\n",
    "\n",
    "car = Car()\n",
    "print(car.start())   "
   ]
  },
  {
   "cell_type": "code",
   "execution_count": 119,
   "id": "f3405820-2a73-4d5b-ac3e-82ebf60505e2",
   "metadata": {},
   "outputs": [],
   "source": [
    "#2. Composition vs Inheritance\n",
    "#Composition: \"Has-a\" relationship (e.g., a car has an engine).\n",
    "\n",
    "#Inheritance: \"Is-a\" relationship (e.g., a car is a vehicle).\n",
    " \n",
    "# Composition\n",
    "class Engine:\n",
    "    pass\n",
    "\n",
    "class Car:\n",
    "    def __init__(self):\n",
    "        self.engine = Engine() \n",
    "\n",
    "# Inheritance\n",
    "class Vehicle:\n",
    "    pass\n",
    "\n",
    "class Car(Vehicle):   \n",
    "    pass"
   ]
  },
  {
   "cell_type": "code",
   "execution_count": 120,
   "id": "2810e953-6c00-4d42-adc3-e453861b4d01",
   "metadata": {},
   "outputs": [
    {
     "name": "stdout",
     "output_type": "stream",
     "text": [
      "1984 George Orwell\n"
     ]
    }
   ],
   "source": [
    "#3. Author and Book Classes \n",
    "class Author:\n",
    "    def __init__(self, name, birthdate):\n",
    "        self.name = name\n",
    "        self.birthdate = birthdate\n",
    "\n",
    "class Book:\n",
    "    def __init__(self, title, author):\n",
    "        self.title = title\n",
    "        self.author = author  # Composition\n",
    "\n",
    "author = Author(\"George Orwell\", \"1903-06-25\")\n",
    "book = Book(\"1984\", author)\n",
    "print(book.title, book.author.name) "
   ]
  },
  {
   "cell_type": "code",
   "execution_count": 121,
   "id": "3af07941-8f20-40eb-ad23-02fb2da3a4ba",
   "metadata": {},
   "outputs": [],
   "source": [
    "#4. Benefits of Composition\n",
    "#Flexibility: Easily replace or modify components.\n",
    "#Reusability: Components can be reused across different classes.\n"
   ]
  },
  {
   "cell_type": "code",
   "execution_count": 123,
   "id": "a2f68e67-5a02-4b55-9670-bd1703c20b22",
   "metadata": {},
   "outputs": [
    {
     "name": "stdout",
     "output_type": "stream",
     "text": [
      "Processing data\n"
     ]
    }
   ],
   "source": [
    "#5. Implementing Composition\n",
    "#Combine objects to build complex systems.\n",
    " \n",
    "class CPU:\n",
    "    def process(self):\n",
    "        return \"Processing data\"\n",
    "\n",
    "class Computer:\n",
    "    def __init__(self):\n",
    "        self.cpu = CPU()  # Composition\n",
    "\n",
    "    def run(self):\n",
    "        return self.cpu.process()\n",
    "\n",
    "computer = Computer()\n",
    "print(computer.run())   "
   ]
  },
  {
   "cell_type": "code",
   "execution_count": 125,
   "id": "6b893b4d-bb8e-4bff-9b1c-998dcddc0bed",
   "metadata": {},
   "outputs": [
    {
     "name": "stdout",
     "output_type": "stream",
     "text": [
      "Song 1\n"
     ]
    }
   ],
   "source": [
    "#6. Music Player System\n",
    "class Song:\n",
    "    def __init__(self, title, artist):\n",
    "        self.title = title\n",
    "        self.artist = artist\n",
    "\n",
    "class Playlist:\n",
    "    def __init__(self, name):\n",
    "        self.name = name\n",
    "        self.songs = []  # Composition\n",
    "\n",
    "    def add_song(self, song):\n",
    "        self.songs.append(song)\n",
    "\n",
    "playlist = Playlist(\"My Playlist\")\n",
    "playlist.add_song(Song(\"Song 1\", \"Artist 1\"))\n",
    "print(playlist.songs[0].title)"
   ]
  },
  {
   "cell_type": "code",
   "execution_count": 127,
   "id": "12ce1b2d-3332-4b12-9b27-02195bb7556c",
   "metadata": {},
   "outputs": [
    {
     "name": "stdout",
     "output_type": "stream",
     "text": [
      "Wheel rotating\n"
     ]
    }
   ],
   "source": [
    "#7. \"Has-a\" Relationships\n",
    "#Composition represents \"has-a\" relationships, where an object contains other objects.\n",
    "class Wheel:\n",
    "    def rotate(self):\n",
    "        return \"Wheel rotating\"\n",
    "\n",
    "class Car:\n",
    "    def __init__(self):\n",
    "        self.wheels = [Wheel() for _ in range(4)]  # Composition\n",
    "\n",
    "car = Car()\n",
    "print(car.wheels[0].rotate()) "
   ]
  },
  {
   "cell_type": "code",
   "execution_count": 128,
   "id": "3396679d-b4b1-4cbc-b5d7-561b3b20437c",
   "metadata": {},
   "outputs": [
    {
     "name": "stdout",
     "output_type": "stream",
     "text": [
      "Processing data\n"
     ]
    }
   ],
   "source": [
    "#8. Computer System with Composition\n",
    "class CPU:\n",
    "    def process(self):\n",
    "        return \"Processing data\"\n",
    "\n",
    "class RAM:\n",
    "    def store(self):\n",
    "        return \"Storing data\"\n",
    "\n",
    "class Computer:\n",
    "    def __init__(self):\n",
    "        self.cpu = CPU()  # Composition\n",
    "        self.ram = RAM()  # Composition\n",
    "\n",
    "computer = Computer()\n",
    "print(computer.cpu.process()) "
   ]
  },
  {
   "cell_type": "code",
   "execution_count": 129,
   "id": "f29cf20b-f3f3-4a4d-8459-2b465c62c39d",
   "metadata": {},
   "outputs": [
    {
     "name": "stdout",
     "output_type": "stream",
     "text": [
      "Engine started\n"
     ]
    }
   ],
   "source": [
    "#9. Delegation in Composition\n",
    "#Delegation allows an object to pass responsibility to another object.\n",
    " \n",
    "class Engine:\n",
    "    def start(self):\n",
    "        return \"Engine started\"\n",
    "\n",
    "class Car:\n",
    "    def __init__(self):\n",
    "        self.engine = Engine()  # Composition\n",
    "\n",
    "    def start(self):\n",
    "        return self.engine.start()  # Delegation\n",
    "\n",
    "car = Car()\n",
    "print(car.start())"
   ]
  },
  {
   "cell_type": "code",
   "execution_count": 130,
   "id": "f4f55b0a-e676-4e58-9803-21b67ea86d17",
   "metadata": {},
   "outputs": [
    {
     "name": "stdout",
     "output_type": "stream",
     "text": [
      "Engine started\n"
     ]
    }
   ],
   "source": [
    "#10. Car with Composition\n",
    " \n",
    "class Engine:\n",
    "    def start(self):\n",
    "        return \"Engine started\"\n",
    "\n",
    "class Wheel:\n",
    "    def rotate(self):\n",
    "        return \"Wheel rotating\"\n",
    "\n",
    "class Car:\n",
    "    def __init__(self):\n",
    "        self.engine = Engine()  # Composition\n",
    "        self.wheels = [Wheel() for _ in range(4)]  # Composition\n",
    "\n",
    "car = Car()\n",
    "print(car.engine.start())"
   ]
  },
  {
   "cell_type": "code",
   "execution_count": 131,
   "id": "16ca3fb7-a152-4623-9555-bd9b31983596",
   "metadata": {},
   "outputs": [
    {
     "name": "stdout",
     "output_type": "stream",
     "text": [
      "Engine started\n"
     ]
    }
   ],
   "source": [
    "#11. Encapsulating Composed Objects\n",
    "#Hide details of composed objects to maintain abstraction.\n",
    " \n",
    "class Engine:\n",
    "    def start(self):\n",
    "        return \"Engine started\"\n",
    "\n",
    "class Car:\n",
    "    def __init__(self):\n",
    "        self.__engine = Engine()  # Encapsulated composition\n",
    "\n",
    "    def start(self):\n",
    "        return self.__engine.start()\n",
    "\n",
    "car = Car()\n",
    "print(car.start())"
   ]
  },
  {
   "cell_type": "code",
   "execution_count": 132,
   "id": "eb5291a3-e7ed-46c2-89a5-ce6359fe2f6c",
   "metadata": {},
   "outputs": [
    {
     "name": "stdout",
     "output_type": "stream",
     "text": [
      "Alice\n"
     ]
    }
   ],
   "source": [
    "#2. University Course with Composition\n",
    " \n",
    "class Student:\n",
    "    def __init__(self, name):\n",
    "        self.name = name\n",
    "\n",
    "class Instructor:\n",
    "    def __init__(self, name):\n",
    "        self.name = name\n",
    "\n",
    "class Course:\n",
    "    def __init__(self, title):\n",
    "        self.title = title\n",
    "        self.students = []  # Composition\n",
    "        self.instructor = None  # Composition\n",
    "\n",
    "    def add_student(self, student):\n",
    "        self.students.append(student)\n",
    "\n",
    "    def set_instructor(self, instructor):\n",
    "        self.instructor = instructor\n",
    "\n",
    "course = Course(\"Python Programming\")\n",
    "course.add_student(Student(\"Alice\"))\n",
    "course.set_instructor(Instructor(\"Dr. Smith\"))\n",
    "print(course.students[0].name) "
   ]
  },
  {
   "cell_type": "code",
   "execution_count": null,
   "id": "8851993c-1abf-4d3d-ad83-9d92f0ebafe7",
   "metadata": {},
   "outputs": [],
   "source": [
    "#13. Challenges of Composition\n",
    "#Complexity: Managing multiple objects can become complex.\n",
    "\n",
    "#Tight Coupling: Over-reliance on specific components can reduce flexibility."
   ]
  },
  {
   "cell_type": "code",
   "execution_count": 134,
   "id": "2b8298ed-5250-410f-979b-aa15315f3241",
   "metadata": {},
   "outputs": [
    {
     "name": "stdout",
     "output_type": "stream",
     "text": [
      "Tomato\n"
     ]
    }
   ],
   "source": [
    "#14. Restaurant System with Composition\n",
    " \n",
    "class Ingredient:\n",
    "    def __init__(self, name):\n",
    "        self.name = name\n",
    "\n",
    "class Dish:\n",
    "    def __init__(self, name):\n",
    "        self.name = name\n",
    "        self.ingredients = []  # Composition\n",
    "\n",
    "    def add_ingredient(self, ingredient):\n",
    "        self.ingredients.append(ingredient)\n",
    "\n",
    "dish = Dish(\"Pasta\")\n",
    "dish.add_ingredient(Ingredient(\"Tomato\"))\n",
    "print(dish.ingredients[0].name)"
   ]
  },
  {
   "cell_type": "code",
   "execution_count": 135,
   "id": "bc0c3121-3713-416d-a24b-69cfc73795cc",
   "metadata": {},
   "outputs": [],
   "source": [
    "#15. Composition and Maintainability\n",
    "#Composition promotes modularity, making code easier to maintain and exten"
   ]
  },
  {
   "cell_type": "code",
   "execution_count": 136,
   "id": "cfdc14c7-cfcc-498f-b1c0-9e637820e614",
   "metadata": {},
   "outputs": [
    {
     "name": "stdout",
     "output_type": "stream",
     "text": [
      "Attacking with weapon\n"
     ]
    }
   ],
   "source": [
    "#16. Game Character with Composition\n",
    "class Weapon:\n",
    "    def attack(self):\n",
    "        return \"Attacking with weapon\"\n",
    "\n",
    "class Armor:\n",
    "    def defend(self):\n",
    "        return \"Defending with armor\"\n",
    "\n",
    "class Character:\n",
    "    def __init__(self):\n",
    "        self.weapon = Weapon()  # Composition\n",
    "        self.armor = Armor()  # Composition\n",
    "\n",
    "character = Character()\n",
    "print(character.weapon.attack())"
   ]
  },
  {
   "cell_type": "code",
   "execution_count": 138,
   "id": "3f8bf240-8422-440e-a5d7-92b029be568d",
   "metadata": {},
   "outputs": [
    {
     "name": "stdout",
     "output_type": "stream",
     "text": [
      "Dr. Smith\n"
     ]
    }
   ],
   "source": [
    "#17. Aggregation in Composition\n",
    "#Aggregation is a weaker form of composition where the composed objects can exist independently.\n",
    " \n",
    "class Professor:\n",
    "    def __init__(self, name):\n",
    "        self.name = name\n",
    "\n",
    "class Department:\n",
    "    def __init__(self, name):\n",
    "        self.name = name\n",
    "        self.professors = []  # Aggregation\n",
    "\n",
    "    def add_professor(self, professor):\n",
    "        self.professors.append(professor)\n",
    "\n",
    "professor = Professor(\"Dr. Smith\")\n",
    "department = Department(\"Computer Science\")\n",
    "department.add_professor(professor)\n",
    "print(department.professors[0].name)"
   ]
  },
  {
   "cell_type": "code",
   "execution_count": 139,
   "id": "27c07dc6-c773-4f78-8a6b-9e967a61b740",
   "metadata": {},
   "outputs": [
    {
     "name": "stdout",
     "output_type": "stream",
     "text": [
      "Living Room\n"
     ]
    }
   ],
   "source": [
    "#18. House with Composition\n",
    "class Room:\n",
    "    def __init__(self, name):\n",
    "        self.name = name\n",
    "\n",
    "class House:\n",
    "    def __init__(self):\n",
    "        self.rooms = []  # Composition\n",
    "\n",
    "    def add_room(self, room):\n",
    "        self.rooms.append(room)\n",
    "\n",
    "house = House()\n",
    "house.add_room(Room(\"Living Room\"))\n",
    "print(house.rooms[0].name) "
   ]
  },
  {
   "cell_type": "code",
   "execution_count": 140,
   "id": "06445a61-dc30-4896-9152-ec4bf932d312",
   "metadata": {},
   "outputs": [
    {
     "name": "stdout",
     "output_type": "stream",
     "text": [
      "Engine started\n"
     ]
    }
   ],
   "source": [
    "#19. Dynamic Composition\n",
    "#Composed objects can be replaced or modified at runtime.\n",
    " \n",
    "class Engine:\n",
    "    def start(self):\n",
    "        return \"Engine started\"\n",
    "\n",
    "class Car:\n",
    "    def __init__(self, engine):\n",
    "        self.engine = engine  # Dynamic composition\n",
    "\n",
    "car = Car(Engine())\n",
    "print(car.engine.start()) "
   ]
  },
  {
   "cell_type": "code",
   "execution_count": 141,
   "id": "dd10184b-46ee-4c7e-bda8-d6aa1607f43c",
   "metadata": {},
   "outputs": [
    {
     "name": "stdout",
     "output_type": "stream",
     "text": [
      "Alice\n"
     ]
    }
   ],
   "source": [
    "#20. Social Media Application with Composition\n",
    "class User:\n",
    "    def __init__(self, username):\n",
    "        self.username = username\n",
    "\n",
    "class Post:\n",
    "    def __init__(self, content, author):\n",
    "        self.content = content\n",
    "        self.author = author  # Composition\n",
    "\n",
    "class Comment:\n",
    "    def __init__(self, text, author):\n",
    "        self.text = text\n",
    "        self.author = author  # Composition\n",
    "\n",
    "user = User(\"Alice\")\n",
    "post = Post(\"Hello, World!\", user)\n",
    "comment = Comment(\"Nice post!\", user)\n",
    "print(post.author.username)"
   ]
  },
  {
   "cell_type": "code",
   "execution_count": null,
   "id": "f475a8e5-0974-4880-9971-c6215976b48f",
   "metadata": {},
   "outputs": [],
   "source": []
  }
 ],
 "metadata": {
  "kernelspec": {
   "display_name": "Python 3 (ipykernel)",
   "language": "python",
   "name": "python3"
  },
  "language_info": {
   "codemirror_mode": {
    "name": "ipython",
    "version": 3
   },
   "file_extension": ".py",
   "mimetype": "text/x-python",
   "name": "python",
   "nbconvert_exporter": "python",
   "pygments_lexer": "ipython3",
   "version": "3.11.7"
  }
 },
 "nbformat": 4,
 "nbformat_minor": 5
}
